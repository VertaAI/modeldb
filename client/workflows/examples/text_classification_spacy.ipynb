{
 "cells": [
  {
   "cell_type": "markdown",
   "metadata": {},
   "source": [
    "# Text Classification with spaCy"
   ]
  },
  {
   "cell_type": "markdown",
   "metadata": {},
   "source": [
    "This walkthrough is based on [this spaCy tutorial](https://github.com/explosion/spaCy/blob/master/examples/training/train_textcat.py).\n",
    "\n",
    "Train a convolutional neural network text classifier on the\n",
    "IMDB dataset, using the `TextCategorizer` component. The dataset will be loaded\n",
    "automatically via Thinc's built-in dataset loader. The model is added to\n",
    "`spacy.pipeline`, and predictions are available via `doc.cats`."
   ]
  },
  {
   "cell_type": "markdown",
   "metadata": {},
   "source": [
    "## Set Up Environment"
   ]
  },
  {
   "cell_type": "markdown",
   "metadata": {},
   "source": [
    "This notebook has been tested with the following package versions:  \n",
    "(you may need to change `pip` to `pip3`, depending on your own Python environment)"
   ]
  },
  {
   "cell_type": "code",
   "execution_count": 1,
   "metadata": {},
   "outputs": [],
   "source": [
    "# Python >3.5\n",
    "!pip install verta\n",
    "!pip install spacy==2.1.6\n",
    "!python -m spacy download en"
   ]
  },
  {
   "cell_type": "markdown",
   "metadata": {},
   "source": [
    "## Set Up Verta"
   ]
  },
  {
   "cell_type": "code",
   "execution_count": 2,
   "metadata": {},
   "outputs": [],
   "source": [
    "HOST = 'app.verta.ai'\n",
    "\n",
    "PROJECT_NAME = 'Film Review Classification'\n",
    "EXPERIMENT_NAME = 'spaCy CNN'"
   ]
  },
  {
   "cell_type": "code",
   "execution_count": 3,
   "metadata": {},
   "outputs": [],
   "source": [
    "# import os\n",
    "# os.environ['VERTA_EMAIL'] = \n",
    "# os.environ['VERTA_DEV_KEY'] = "
   ]
  },
  {
   "cell_type": "code",
   "execution_count": 4,
   "metadata": {},
   "outputs": [],
   "source": [
    "from verta import Client\n",
    "from verta.utils import ModelAPI\n",
    "\n",
    "client = Client(HOST, use_git=False)\n",
    "\n",
    "proj = client.set_project(PROJECT_NAME)\n",
    "expt = client.set_experiment(EXPERIMENT_NAME)\n",
    "run = client.set_experiment_run()"
   ]
  },
  {
   "cell_type": "markdown",
   "metadata": {},
   "source": [
    "---"
   ]
  },
  {
   "cell_type": "markdown",
   "metadata": {},
   "source": [
    "## Imports"
   ]
  },
  {
   "cell_type": "code",
   "execution_count": 5,
   "metadata": {},
   "outputs": [],
   "source": [
    "from __future__ import print_function\n",
    "\n",
    "import warnings\n",
    "warnings.filterwarnings(\"ignore\", category=FutureWarning)\n",
    "\n",
    "import random\n",
    "\n",
    "import six\n",
    "\n",
    "import numpy as np\n",
    "import thinc.extra.datasets\n",
    "import spacy\n",
    "from spacy.util import minibatch, compounding"
   ]
  },
  {
   "cell_type": "markdown",
   "metadata": {},
   "source": [
    "## Helper Functions"
   ]
  },
  {
   "cell_type": "code",
   "execution_count": 6,
   "metadata": {},
   "outputs": [],
   "source": [
    "def load_data(limit=0, split=0.8):\n",
    "    \"\"\"Load data from the IMDB dataset.\"\"\"\n",
    "    # Partition off part of the dataset to train and test\n",
    "    train_data, _ = thinc.extra.datasets.imdb()\n",
    "    random.shuffle(train_data)    \n",
    "    train_data = train_data[-limit:]\n",
    "    texts, labels = zip(*train_data)\n",
    "    cats = [{\"POSITIVE\": bool(y), \"NEGATIVE\": not bool(y)} for y in labels]\n",
    "    split = int(len(train_data) * split)\n",
    "    return (texts[:split], cats[:split]), (texts[split:], cats[split:])"
   ]
  },
  {
   "cell_type": "code",
   "execution_count": 7,
   "metadata": {},
   "outputs": [],
   "source": [
    "def evaluate(tokenizer, textcat, texts, cats):\n",
    "    \"\"\"Evaluate with text data, calculates precision, recall and f score\"\"\"\n",
    "    docs = (tokenizer(text) for text in texts)\n",
    "    tp = 0.0  # True positives\n",
    "    fp = 1e-8  # False positives\n",
    "    fn = 1e-8  # False negatives\n",
    "    tn = 0.0  # True negatives\n",
    "    for i, doc in enumerate(textcat.pipe(docs)):\n",
    "        gold = cats[i]\n",
    "        for label, score in doc.cats.items():\n",
    "            if label not in gold:\n",
    "                continue\n",
    "            if label == \"NEGATIVE\":\n",
    "                continue\n",
    "            if score >= 0.5 and gold[label] >= 0.5:\n",
    "                tp += 1.0\n",
    "            elif score >= 0.5 and gold[label] < 0.5:\n",
    "                fp += 1.0\n",
    "            elif score < 0.5 and gold[label] < 0.5:\n",
    "                tn += 1\n",
    "            elif score < 0.5 and gold[label] >= 0.5:\n",
    "                fn += 1\n",
    "    precision = tp / (tp + fp)\n",
    "    recall = tp / (tp + fn)\n",
    "    if (precision + recall) == 0:\n",
    "        f_score = 0.0\n",
    "    else:\n",
    "        f_score = 2 * (precision * recall) / (precision + recall)\n",
    "    return {\"textcat_p\": precision, \"textcat_r\": recall, \"textcat_f\": f_score}"
   ]
  },
  {
   "cell_type": "markdown",
   "metadata": {},
   "source": [
    "## Train Model"
   ]
  },
  {
   "cell_type": "code",
   "execution_count": 8,
   "metadata": {},
   "outputs": [],
   "source": [
    "hyperparams = {\n",
    "    'model':'en',\n",
    "    'n_iter': 2, # epochs\n",
    "    'n_texts': 500, # num of training samples\n",
    "    'architecture': 'simple_cnn',\n",
    "    'num_samples': 1000,\n",
    "    'train_test_split': 0.8,\n",
    "    'dropout': 0.2\n",
    "}\n",
    "run.log_hyperparameters(hyperparams)"
   ]
  },
  {
   "cell_type": "code",
   "execution_count": 9,
   "metadata": {},
   "outputs": [],
   "source": [
    "# using the basic en model\n",
    "try:\n",
    "    nlp = spacy.load(hyperparams['model'])  # load existing spaCy model\n",
    "except OSError:\n",
    "    nlp = spacy.blank(hyperparams['model'])  # create blank Language class\n",
    "    print(\"Created blank '{}' model\".format(hyperparams['model']))\n",
    "else:\n",
    "    print(\"Loaded model '{}'\".format(nlp))\n",
    "\n",
    "# add the text classifier to the pipeline if it doesn't exist\n",
    "if \"textcat\" not in nlp.pipe_names:\n",
    "    textcat = nlp.create_pipe(\n",
    "        \"textcat\",\n",
    "        config={\n",
    "            \"exclusive_classes\": True,\n",
    "            \"architecture\": hyperparams['architecture'],\n",
    "        }\n",
    "    )\n",
    "    nlp.add_pipe(textcat, last=True)\n",
    "# otherwise, get it, so we can add labels to it\n",
    "else:\n",
    "    textcat = nlp.get_pipe(\"textcat\")\n",
    "\n",
    "# add label to text classifier\n",
    "_= textcat.add_label(\"POSITIVE\")\n",
    "_= textcat.add_label(\"NEGATIVE\")"
   ]
  },
  {
   "cell_type": "code",
   "execution_count": 10,
   "metadata": {},
   "outputs": [],
   "source": [
    "# load the IMDB dataset\n",
    "print(\"Loading IMDB data...\")\n",
    "(train_texts, train_cats), (dev_texts, dev_cats) = load_data(limit=hyperparams['num_samples'],\n",
    "                                                             split=hyperparams['train_test_split'])\n",
    "print(\n",
    "    \"Using {} examples ({} training, {} evaluation)\".format(\n",
    "        hyperparams['num_samples'], len(train_texts), len(dev_texts)\n",
    "    )\n",
    ")\n",
    "train_data = list(zip(train_texts, [{\"cats\": cats} for cats in train_cats]))"
   ]
  },
  {
   "cell_type": "code",
   "execution_count": 11,
   "metadata": {},
   "outputs": [],
   "source": [
    "# sample train data\n",
    "train_data[:1]"
   ]
  },
  {
   "cell_type": "code",
   "execution_count": 12,
   "metadata": {
    "scrolled": false
   },
   "outputs": [],
   "source": [
    "# get names of other pipes to disable them during training\n",
    "other_pipes = [pipe for pipe in nlp.pipe_names if pipe != \"textcat\"]\n",
    "print(\"other pipes:\", other_pipes)\n",
    "with nlp.disable_pipes(*other_pipes):  # only train textcat\n",
    "    optimizer = nlp.begin_training()\n",
    "    print(\"Training the model...\")\n",
    "    print(\"{:^5}\\t{:^5}\\t{:^5}\\t{:^5}\".format(\"LOSS\", \"P\", \"R\", \"F\"))\n",
    "    batch_sizes = compounding(4.0, 32.0, 1.001)\n",
    "    for i in range(hyperparams['n_iter']):\n",
    "        losses = {}\n",
    "        # batch up the examples using spaCy's minibatch\n",
    "        random.shuffle(train_data)\n",
    "        batches = minibatch(train_data, size=batch_sizes)\n",
    "        for batch in batches:\n",
    "            texts, annotations = zip(*batch)\n",
    "            nlp.update(texts, annotations, sgd=optimizer, drop=hyperparams['dropout'], losses=losses)\n",
    "        with textcat.model.use_params(optimizer.averages):\n",
    "            # evaluate on the dev data split off in load_data()\n",
    "            scores = evaluate(nlp.tokenizer, textcat, dev_texts, dev_cats)\n",
    "        print(\n",
    "            \"{0:.3f}\\t{1:.3f}\\t{2:.3f}\\t{3:.3f}\".format(  # print a simple table\n",
    "                losses[\"textcat\"],\n",
    "                scores[\"textcat_p\"],\n",
    "                scores[\"textcat_r\"],\n",
    "                scores[\"textcat_f\"],\n",
    "            ) \n",
    "        )\n",
    "        run.log_observation('loss', losses['textcat'])\n",
    "        run.log_observation('precision', scores['textcat_p'])\n",
    "        run.log_observation('recall', scores['textcat_r'])\n",
    "        run.log_observation('f_score', scores['textcat_f'])"
   ]
  },
  {
   "cell_type": "markdown",
   "metadata": {},
   "source": [
    "---"
   ]
  },
  {
   "cell_type": "markdown",
   "metadata": {},
   "source": [
    "# Log for Deployment"
   ]
  },
  {
   "cell_type": "markdown",
   "metadata": {},
   "source": [
    "## Create Wrapper Class\n",
    "\n",
    "Verta deployment expects a particular interface for its models.  \n",
    "They must expose a `predict()` function, so we'll create a thin wrapper class around our `spaCy` pipeline."
   ]
  },
  {
   "cell_type": "code",
   "execution_count": 13,
   "metadata": {},
   "outputs": [],
   "source": [
    "class TextClassifier:\n",
    "    def __init__(self, nlp):\n",
    "        self.nlp = nlp\n",
    "\n",
    "    def predict(self, input_list):  # param must be a list/batch of inputs\n",
    "        predictions = []\n",
    "        for text in input_list:\n",
    "            scores = self.nlp(text).cats\n",
    "            if scores['POSITIVE'] > scores['NEGATIVE']:\n",
    "                predictions.append(\"POSITIVE\")\n",
    "            else:\n",
    "                predictions.append(\"NEGATIVE\")\n",
    "        \n",
    "        return np.array(predictions)  # response currently must be a NumPy array"
   ]
  },
  {
   "cell_type": "code",
   "execution_count": 14,
   "metadata": {},
   "outputs": [],
   "source": [
    "input_list = [\n",
    "    \"This movie was subpar at best.\",\n",
    "    \"Plot didn't make sense.\"\n",
    "]\n",
    "\n",
    "model = TextClassifier(nlp)\n",
    "model.predict(input_list)"
   ]
  },
  {
   "cell_type": "markdown",
   "metadata": {},
   "source": [
    "## Create Deployment Artifacts\n",
    "\n",
    "Verta deployment also needs a couple more details about the model."
   ]
  },
  {
   "cell_type": "markdown",
   "metadata": {},
   "source": [
    "What do its inputs and outputs look like?"
   ]
  },
  {
   "cell_type": "code",
   "execution_count": 15,
   "metadata": {},
   "outputs": [],
   "source": [
    "from verta.utils import ModelAPI  # Verta-provided utility class\n",
    "\n",
    "model_api = ModelAPI(\n",
    "    input_list,  # example inputs\n",
    "    model.predict(input_list),  # example outputs\n",
    ")"
   ]
  },
  {
   "cell_type": "markdown",
   "metadata": {},
   "source": [
    "What PyPI-installable packages (with version numbers) are required to deserialize and run the model?"
   ]
  },
  {
   "cell_type": "code",
   "execution_count": 16,
   "metadata": {},
   "outputs": [],
   "source": [
    "requirements = [\"numpy\", \"spacy\", \"thinc\"]\n",
    "\n",
    "# this could also have been a path to a requirements.txt file on disk\n",
    "run.log_requirements(requirements)"
   ]
  },
  {
   "cell_type": "markdown",
   "metadata": {},
   "source": [
    "## Log Model"
   ]
  },
  {
   "cell_type": "code",
   "execution_count": 17,
   "metadata": {},
   "outputs": [],
   "source": [
    "# test the trained model\n",
    "test_text = 'The Lion King was very entertaining. The movie was visually spectacular.'\n",
    "doc = nlp(test_text)\n",
    "print(test_text)\n",
    "print(doc.cats)"
   ]
  },
  {
   "cell_type": "code",
   "execution_count": 18,
   "metadata": {},
   "outputs": [],
   "source": [
    "run.log_model(\n",
    "    model,\n",
    "    model_api=model_api,\n",
    ")"
   ]
  },
  {
   "cell_type": "markdown",
   "metadata": {},
   "source": [
    "---"
   ]
  },
  {
   "cell_type": "markdown",
   "metadata": {},
   "source": [
    "# Deployment"
   ]
  },
  {
   "cell_type": "code",
   "execution_count": 19,
   "metadata": {},
   "outputs": [],
   "source": [
    "run"
   ]
  },
  {
   "cell_type": "markdown",
   "metadata": {},
   "source": [
    "Click the link above to view your Experiment Run in the Verta Web App, and deploy it.  \n",
    "Once it's ready, you can make predictions against the deployed model."
   ]
  },
  {
   "cell_type": "code",
   "execution_count": 20,
   "metadata": {},
   "outputs": [],
   "source": [
    "from verta._demo_utils import DeployedModel\n",
    "\n",
    "deployed_model = DeployedModel(HOST, run.id)"
   ]
  },
  {
   "cell_type": "code",
   "execution_count": 21,
   "metadata": {},
   "outputs": [],
   "source": [
    "deployed_model.predict([\"I would definitely watch this again!\"])"
   ]
  },
  {
   "cell_type": "markdown",
   "metadata": {},
   "source": [
    "---"
   ]
  }
 ],
 "metadata": {
  "kernelspec": {
   "display_name": "Python 3",
   "language": "python",
   "name": "python3"
  },
  "language_info": {
   "codemirror_mode": {
    "name": "ipython",
    "version": 3
   },
   "file_extension": ".py",
   "mimetype": "text/x-python",
   "name": "python",
   "nbconvert_exporter": "python",
   "pygments_lexer": "ipython3",
   "version": "3.7.3"
  }
 },
 "nbformat": 4,
 "nbformat_minor": 2
}
