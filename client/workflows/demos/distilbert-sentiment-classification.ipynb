{
 "cells": [
  {
   "cell_type": "markdown",
   "metadata": {},
   "source": [
    "<a href=\"https://colab.research.google.com/github/VertaAI/modeldb/blob/master/client/workflows/demos/distilbert-sentiment-classification.ipynb\" target=\"_parent\"><img src=\"https://colab.research.google.com/assets/colab-badge.svg\" alt=\"Open In Colab\"/></a>"
   ]
  },
  {
   "cell_type": "code",
   "execution_count": 1,
   "metadata": {},
   "outputs": [],
   "source": [
    "import os\n",
    "os.environ['VERTA_HOST'] = \n",
    "os.environ['VERTA_EMAIL'] = \n",
    "os.environ['VERTA_DEV_KEY'] = "
   ]
  },
  {
   "cell_type": "code",
   "execution_count": 2,
   "metadata": {},
   "outputs": [],
   "source": [
    "!pip install verta torch transformers"
   ]
  },
  {
   "cell_type": "markdown",
   "metadata": {},
   "source": [
    "# Models"
   ]
  },
  {
   "cell_type": "code",
   "execution_count": 3,
   "metadata": {},
   "outputs": [],
   "source": [
    "from transformers import (\n",
    "    pipeline,\n",
    "    AutoModelForSequenceClassification,\n",
    "    AutoTokenizer,\n",
    ")"
   ]
  },
  {
   "cell_type": "code",
   "execution_count": 4,
   "metadata": {},
   "outputs": [],
   "source": [
    "class Model:\n",
    "    MODEL = None\n",
    "\n",
    "    def __init__(self):\n",
    "        self.model = pipeline(\n",
    "            task=\"sentiment-analysis\",\n",
    "            model=AutoModelForSequenceClassification.from_pretrained(self.MODEL),\n",
    "            tokenizer=AutoTokenizer.from_pretrained(self.MODEL),\n",
    "        )\n",
    "\n",
    "    def predict(self, text):\n",
    "        return self.model(text)[0]\n",
    "\n",
    "\n",
    "class DistilBERT(Model):\n",
    "    MODEL = \"distilbert-base-uncased-finetuned-sst-2-english\"\n",
    "\n",
    "    def predict(self, text):\n",
    "        sentiment = super(DistilBERT, self).predict(text)\n",
    "\n",
    "        return sentiment\n",
    "\n",
    "\n",
    "class MultilingualBERT(Model):\n",
    "    MODEL = \"nlptown/bert-base-multilingual-uncased-sentiment\"\n",
    "    \n",
    "    def __init__(self):\n",
    "        super(MultilingualBERT, self).__init__()\n",
    "        self.model.return_all_scores = True  # this model has 5 categories, and we'll need to make it 2\n",
    "        \n",
    "\n",
    "    def predict(self, text):\n",
    "        \n",
    "        scores = super(MultilingualBERT, self).predict(text)\n",
    "        scores = sorted(scores, key=lambda score: score['score'], reverse=True)\n",
    "        sentiment = scores[0]\n",
    "\n",
    "        # fix label\n",
    "        if sentiment['label'].startswith(('1', '2', '3')):\n",
    "            sentiment['label'] = \"NEGATIVE\"\n",
    "        else:  # ('4', '5')\n",
    "            sentiment['label'] = \"POSITIVE\"\n",
    "        # aggregate score\n",
    "        sentiment['score'] = sum(score['score'] for score in scores[:3])\n",
    "        return sentiment\n",
    "\n",
    "\n",
    "class BERT(Model):\n",
    "    MODEL = \"textattack/bert-base-uncased-imdb\"\n",
    "\n",
    "    def predict(self, text):\n",
    "        sentiment = super(BERT, self).predict(text)\n",
    "\n",
    "        # fix label\n",
    "        if sentiment['label'] == \"LABEL_0\":\n",
    "            sentiment['label'] = \"NEGATIVE\"\n",
    "        else:  # \"LABEL_1\"\n",
    "            sentiment['label'] = \"POSITIVE\"\n",
    "\n",
    "        return sentiment\n",
    "\n",
    "\n",
    "class GermanBERT(Model):\n",
    "    MODEL = \"oliverguhr/german-sentiment-bert\"\n",
    "\n",
    "    def predict(self, text):\n",
    "        sentiment = super(GermanBERT, self).predict(text)\n",
    "        \n",
    "        # fix label\n",
    "        sentiment['label'] = sentiment['label'].upper()\n",
    "\n",
    "        return sentiment"
   ]
  },
  {
   "cell_type": "code",
   "execution_count": 5,
   "metadata": {},
   "outputs": [],
   "source": [
    "distilbert = DistilBERT()\n",
    "multilingual_bert = MultilingualBERT()\n",
    "bert = BERT()\n",
    "german_bert = GermanBERT()\n",
    "\n",
    "print(distilbert.predict(\"I like you\"))\n",
    "print(multilingual_bert.predict(\"I like you\"))\n",
    "print(bert.predict(\"I like you\"))\n",
    "print(german_bert.predict(\"I like you\"))"
   ]
  },
  {
   "cell_type": "markdown",
   "metadata": {},
   "source": [
    "# Logging Runs"
   ]
  },
  {
   "cell_type": "code",
   "execution_count": 6,
   "metadata": {},
   "outputs": [],
   "source": [
    "from verta import Client\n",
    "\n",
    "client = Client()"
   ]
  },
  {
   "cell_type": "code",
   "execution_count": 7,
   "metadata": {},
   "outputs": [],
   "source": [
    "client.create_project(\n",
    "    \"Text Classification\",\n",
    "    desc=\"Models trained for textual sentiment classification.\",\n",
    "    tags=[\"NLP\", \"Classification\", \"Q4\"],\n",
    "    attrs={'team': \"Verta\"},\n",
    ")"
   ]
  },
  {
   "cell_type": "code",
   "execution_count": 8,
   "metadata": {},
   "outputs": [],
   "source": [
    "client.create_experiment(\"DistilBERT\", tags=[\"Neural Net\"])\n",
    "\n",
    "run = client.create_experiment_run(\n",
    "    \"First DistilBERT\",\n",
    "    tags=[\"DistilBERT\", \"English\"],\n",
    ")\n",
    "run.log_model(distilbert, custom_modules=[])\n",
    "run.log_requirements([\"torch\", \"transformers\"])"
   ]
  },
  {
   "cell_type": "code",
   "execution_count": 9,
   "metadata": {},
   "outputs": [],
   "source": [
    "client.create_experiment(\"BERT\", tags=[\"Neural Net\"])\n",
    "\n",
    "run = client.create_experiment_run(\n",
    "    \"First BERT\",\n",
    "    tags=[\"BERT\", \"English\"],\n",
    ")\n",
    "run.log_model(bert, custom_modules=[])\n",
    "run.log_requirements([\"torch\", \"transformers\"])\n",
    "\n",
    "run = client.create_experiment_run(\n",
    "    \"Multilingual\",\n",
    "    tags=[\"BERT\", \"English\", \"German\"],\n",
    ")\n",
    "run.log_model(multilingual_bert, custom_modules=[])\n",
    "run.log_requirements([\"torch\", \"transformers\"])\n",
    "\n",
    "run = client.create_experiment_run(\n",
    "    \"German\",\n",
    "    tags=[\"BERT\", \"German\"],\n",
    ")\n",
    "run.log_model(german_bert, custom_modules=[])\n",
    "run.log_requirements([\"torch\", \"transformers\"])"
   ]
  },
  {
   "cell_type": "markdown",
   "metadata": {},
   "source": [
    "---"
   ]
  }
 ],
 "metadata": {
  "kernelspec": {
   "display_name": "Python 3",
   "language": "python",
   "name": "python3"
  },
  "language_info": {
   "codemirror_mode": {
    "name": "ipython",
    "version": 3
   },
   "file_extension": ".py",
   "mimetype": "text/x-python",
   "name": "python",
   "nbconvert_exporter": "python",
   "pygments_lexer": "ipython3",
   "version": "3.7.8"
  }
 },
 "nbformat": 4,
 "nbformat_minor": 4
}
