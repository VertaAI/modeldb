{
 "cells": [
  {
   "cell_type": "markdown",
   "id": "c82a63f9",
   "metadata": {},
   "source": [
    "# Deployment Monitoring Integration"
   ]
  },
  {
   "cell_type": "markdown",
   "id": "235e4dc3",
   "metadata": {},
   "source": []
  },
  {
   "cell_type": "markdown",
   "id": "99dd6da4",
   "metadata": {},
   "source": [
    "## 0. Imports"
   ]
  },
  {
   "cell_type": "code",
   "execution_count": null,
   "id": "1f3325a1",
   "metadata": {},
   "outputs": [],
   "source": [
    "from __future__ import print_function\n",
    "\n",
    "import itertools\n",
    "import os\n",
    "import time\n",
    "\n",
    "import six\n",
    "\n",
    "import numpy as np\n",
    "import pandas as pd\n",
    "\n",
    "import sklearn\n",
    "from sklearn import linear_model"
   ]
  },
  {
   "cell_type": "markdown",
   "id": "1588d0f3",
   "metadata": {},
   "source": [
    "### 0.1 Verta import and setup"
   ]
  },
  {
   "cell_type": "code",
   "execution_count": null,
   "id": "174f67cb",
   "metadata": {},
   "outputs": [],
   "source": [
    "# restart your notebook if prompted on Colab\n",
    "try:\n",
    "    import verta\n",
    "except ImportError:\n",
    "    !pip install verta"
   ]
  },
  {
   "cell_type": "code",
   "execution_count": null,
   "id": "b525e0b9",
   "metadata": {},
   "outputs": [],
   "source": [
    "import os\n",
    "\n",
    "# Ensure credentials are set up, if not, use below\n",
    "# os.environ['VERTA_EMAIL'] = \n",
    "# os.environ['VERTA_DEV_KEY'] = \n",
    "# os.environ['VERTA_HOST'] = \n",
    "\n",
    "from verta import Client\n",
    "client = Client(os.environ['VERTA_HOST'])"
   ]
  },
  {
   "cell_type": "markdown",
   "id": "de0b21fa",
   "metadata": {},
   "source": [
    "## 1. Model Training"
   ]
  },
  {
   "cell_type": "markdown",
   "id": "aacad2e7",
   "metadata": {},
   "source": []
  },
  {
   "cell_type": "markdown",
   "id": "eb3e3252",
   "metadata": {},
   "source": [
    "### 1.1 Load training data"
   ]
  },
  {
   "cell_type": "code",
   "execution_count": null,
   "id": "9c068c32",
   "metadata": {},
   "outputs": [],
   "source": [
    "try:\n",
    "    import wget\n",
    "except ImportError:\n",
    "    !pip install wget  # you may need pip3\n",
    "    import wget"
   ]
  },
  {
   "cell_type": "code",
   "execution_count": null,
   "id": "cf192c9b",
   "metadata": {},
   "outputs": [],
   "source": [
    "train_data_url = \"http://s3.amazonaws.com/verta-starter/census-train.csv\"\n",
    "train_data_filename = wget.detect_filename(train_data_url)\n",
    "if not os.path.isfile(train_data_filename):\n",
    "    wget.download(train_data_url)\n",
    "\n",
    "test_data_url = \"http://s3.amazonaws.com/verta-starter/census-test.csv\"\n",
    "test_data_filename = wget.detect_filename(test_data_url)\n",
    "if not os.path.isfile(test_data_filename):\n",
    "    wget.download(test_data_url)"
   ]
  },
  {
   "cell_type": "code",
   "execution_count": null,
   "id": "3ad8d253",
   "metadata": {},
   "outputs": [],
   "source": [
    "df_train = pd.read_csv(train_data_filename)\n",
    "X_train = df_train.iloc[:,:-1]\n",
    "y_train = df_train.iloc[:, -1]\n",
    "\n",
    "df_test = pd.read_csv(test_data_filename)\n",
    "X_test = df_test.iloc[:,:-1]\n",
    "y_test = df_test.iloc[:, -1]\n",
    "\n",
    "\n",
    "df_train.head()"
   ]
  },
  {
   "cell_type": "markdown",
   "id": "94891ca6",
   "metadata": {},
   "source": [
    "## 1.2 Fit Model"
   ]
  },
  {
   "cell_type": "code",
   "execution_count": null,
   "id": "8cda82ac",
   "metadata": {},
   "outputs": [],
   "source": [
    "model = linear_model.LogisticRegression(max_iter=10**3)\n",
    "model.fit(X_train, y_train)\n",
    "\n",
    "model.score(X_train, y_train)"
   ]
  },
  {
   "cell_type": "markdown",
   "id": "79014eb2",
   "metadata": {},
   "source": [
    "## 2. Register model for deployment"
   ]
  },
  {
   "cell_type": "code",
   "execution_count": null,
   "id": "3a90f404",
   "metadata": {},
   "outputs": [],
   "source": [
    "registered_model = client.get_or_create_registered_model(name=\"census\")"
   ]
  },
  {
   "cell_type": "markdown",
   "id": "a8fa5ad4",
   "metadata": {},
   "source": [
    "## 2.1 Create model version"
   ]
  },
  {
   "cell_type": "code",
   "execution_count": null,
   "id": "002a4de2",
   "metadata": {},
   "outputs": [],
   "source": [
    "from verta.environment import Python\n",
    "\n",
    "model_version = registered_model.create_standard_model_from_sklearn(\n",
    "    model,\n",
    "    environment=Python(requirements=[\"scikit-learn\"]),\n",
    ")"
   ]
  },
  {
   "cell_type": "markdown",
   "id": "8cb422be",
   "metadata": {},
   "source": [
    "## 2.2 Profile training data"
   ]
  },
  {
   "cell_type": "markdown",
   "id": "1c6e8f21",
   "metadata": {},
   "source": [
    "Here, Verta uploads profiles of your training data to faciliate downstream monitoring. Individual data points are *not* uploaded—the client only passes along numerical and categorical distributions of the columns in your data.\n",
    "\n",
    "This step may take a few moments to run, depending on the dimensionality of your training data."
   ]
  },
  {
   "cell_type": "code",
   "execution_count": null,
   "id": "2542d20e",
   "metadata": {},
   "outputs": [],
   "source": [
    "model_version.log_training_data_profile(X_train, y_train)"
   ]
  },
  {
   "cell_type": "markdown",
   "id": "32250cea",
   "metadata": {},
   "source": [
    "These training data distributions can be viewed in the web app."
   ]
  },
  {
   "cell_type": "code",
   "execution_count": null,
   "id": "0b671420",
   "metadata": {},
   "outputs": [],
   "source": [
    "model_version"
   ]
  },
  {
   "cell_type": "markdown",
   "id": "6e7bfcfa",
   "metadata": {},
   "source": [
    "## 3. Deploy model"
   ]
  },
  {
   "cell_type": "code",
   "execution_count": null,
   "id": "9fdb747c",
   "metadata": {
    "scrolled": true
   },
   "outputs": [],
   "source": [
    "endpoint = client.create_endpoint(model_version.name.replace(\" \", \"-\"))\n",
    "endpoint.update(model_version, wait=True)"
   ]
  },
  {
   "cell_type": "markdown",
   "id": "f197a4a8",
   "metadata": {},
   "source": [
    "### 3.1 Make predictions"
   ]
  },
  {
   "cell_type": "code",
   "execution_count": null,
   "id": "ebca25ba",
   "metadata": {},
   "outputs": [],
   "source": [
    "deployed_model = endpoint.get_deployed_model()\n",
    "for i, row in X_test.iterrows():\n",
    "    print(deployed_model.predict([row.tolist()]))\n",
    "    \n",
    "    if i == 5:\n",
    "        break"
   ]
  },
  {
   "cell_type": "markdown",
   "id": "f81523b8",
   "metadata": {},
   "source": [
    "### 3.2 Fire alerts"
   ]
  },
  {
   "cell_type": "code",
   "execution_count": null,
   "id": "77a61f6b",
   "metadata": {},
   "outputs": [],
   "source": []
  },
  {
   "cell_type": "markdown",
   "id": "38af7b9f",
   "metadata": {},
   "source": [
    "---"
   ]
  }
 ],
 "metadata": {
  "kernelspec": {
   "display_name": "Python 3",
   "language": "python",
   "name": "python3"
  },
  "language_info": {
   "codemirror_mode": {
    "name": "ipython",
    "version": 3
   },
   "file_extension": ".py",
   "mimetype": "text/x-python",
   "name": "python",
   "nbconvert_exporter": "python",
   "pygments_lexer": "ipython3",
   "version": "3.7.10"
  }
 },
 "nbformat": 4,
 "nbformat_minor": 5
}
