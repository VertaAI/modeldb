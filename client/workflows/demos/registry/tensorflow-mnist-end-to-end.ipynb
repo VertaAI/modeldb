{
 "cells": [
  {
   "cell_type": "markdown",
   "metadata": {},
   "source": [
    "# Deploying Tensorflow models on Verta\n",
    "\n",
    "Within Verta, a \"Model\" can be any arbitrary function: a traditional ML model (e.g., sklearn, PyTorch, TF, etc); a function (e.g., squaring a number, making a DB function etc.); or a mixture of the above (e.g., pre-processing code, a DB call, and then a model application.) See more [here](https://docs.verta.ai/verta/registry/concepts).\n",
    "\n",
    "This notebook provides an example of how to deploy a Tensorflow model on Verta as a Verta Standard Model either via  convenience functions (for Keras) or by extending [VertaModelBase](https://verta.readthedocs.io/en/master/_autogen/verta.registry.VertaModelBase.html?highlight=VertaModelBase#verta.registry.VertaModelBase)."
   ]
  },
  {
   "cell_type": "markdown",
   "metadata": {},
   "source": [
    "## 0. Imports"
   ]
  },
  {
   "cell_type": "code",
   "execution_count": 1,
   "metadata": {},
   "outputs": [],
   "source": [
    "import os\n",
    "import tensorflow as tf"
   ]
  },
  {
   "cell_type": "code",
   "execution_count": 2,
   "metadata": {},
   "outputs": [],
   "source": [
    "# restart your notebook if prompted on Colab\n",
    "try:\n",
    "    import verta\n",
    "except ImportError:\n",
    "    !pip install verta"
   ]
  },
  {
   "cell_type": "code",
   "execution_count": 3,
   "metadata": {},
   "outputs": [],
   "source": [
    "import os\n",
    "\n",
    "# Ensure credentials are set up, if not, use below\n",
    "# os.environ['VERTA_EMAIL'] = \n",
    "# os.environ['VERTA_DEV_KEY'] = \n",
    "# os.environ['VERTA_HOST'] = \n",
    "from verta import Client\n",
    "client = Client(os.environ['VERTA_HOST'])"
   ]
  },
  {
   "cell_type": "markdown",
   "metadata": {},
   "source": [
    "## 1. Model Training"
   ]
  },
  {
   "cell_type": "code",
   "execution_count": 4,
   "metadata": {},
   "outputs": [],
   "source": [
    "mnist = tf.keras.datasets.mnist\n",
    "\n",
    "(x_train, y_train), (x_test, y_test) = mnist.load_data()\n",
    "x_train, x_test = x_train / 255.0, x_test / 255.0"
   ]
  },
  {
   "cell_type": "code",
   "execution_count": 5,
   "metadata": {},
   "outputs": [],
   "source": [
    "model = tf.keras.models.Sequential([\n",
    "  tf.keras.layers.Flatten(input_shape=(28, 28)),\n",
    "  tf.keras.layers.Dense(128, activation='relu'),\n",
    "  tf.keras.layers.Dropout(0.2),\n",
    "  tf.keras.layers.Dense(10)\n",
    "])"
   ]
  },
  {
   "cell_type": "code",
   "execution_count": 6,
   "metadata": {},
   "outputs": [],
   "source": [
    "loss_fn = tf.keras.losses.SparseCategoricalCrossentropy(from_logits=True)\n",
    "\n",
    "model.compile(optimizer='adam',\n",
    "              loss=loss_fn,\n",
    "              metrics=['accuracy'])"
   ]
  },
  {
   "cell_type": "code",
   "execution_count": 7,
   "metadata": {},
   "outputs": [],
   "source": [
    "model.fit(x_train, y_train, epochs=5)"
   ]
  },
  {
   "cell_type": "markdown",
   "metadata": {},
   "source": [
    "## 2. Register Model"
   ]
  },
  {
   "cell_type": "code",
   "execution_count": 8,
   "metadata": {},
   "outputs": [],
   "source": [
    "registered_model = client.get_or_create_registered_model(\n",
    "    name=\"mnist\", labels=[\"computer-vision\", \"tensorflow\"])"
   ]
  },
  {
   "cell_type": "markdown",
   "metadata": {},
   "source": [
    "### 2.1 Register from the model object\n",
    "#### If you are in the same file where you have the model object handy, use the code below to package the model"
   ]
  },
  {
   "cell_type": "code",
   "execution_count": 9,
   "metadata": {},
   "outputs": [],
   "source": [
    "from verta.environment import Python\n",
    "model_version_from_obj = registered_model.create_standard_model_from_keras(\n",
    "    model, environment=Python(requirements=[\"tensorflow\"]), name=\"v1\")"
   ]
  },
  {
   "cell_type": "markdown",
   "metadata": {},
   "source": [
    "### 2.2 (OR) Register a serialized version of the model using the VertaModelBase"
   ]
  },
  {
   "cell_type": "code",
   "execution_count": 10,
   "metadata": {},
   "outputs": [],
   "source": [
    "model.save(\"mnist.tf_saved_model\")"
   ]
  },
  {
   "cell_type": "code",
   "execution_count": 11,
   "metadata": {},
   "outputs": [],
   "source": [
    "from verta.registry import VertaModelBase\n",
    "\n",
    "class MNISTModel(VertaModelBase):\n",
    "    def __init__(self, artifacts):\n",
    "        import tensorflow as tf\n",
    "        self.model = tf.keras.models.load_model(\n",
    "            artifacts[\"mnist_model\"])\n",
    "    \n",
    "    def predict(self, input_data):\n",
    "        output = []\n",
    "        for input_data_point in input_data:\n",
    "            reshaped_data = tf.reshape(input_data_point, (1, 28, 28))\n",
    "            output.append(self.model(reshaped_data).numpy().tolist())\n",
    "        return output"
   ]
  },
  {
   "cell_type": "code",
   "execution_count": 12,
   "metadata": {},
   "outputs": [],
   "source": [
    "# test locally\n",
    "mnist_model1 = MNISTModel({\"mnist_model\" : \"mnist.tf_saved_model/\"})\n",
    "mnist_model1.predict([x_test[0]])"
   ]
  },
  {
   "cell_type": "code",
   "execution_count": 13,
   "metadata": {},
   "outputs": [],
   "source": [
    "model_version_from_cls = registered_model.create_standard_model(\n",
    "    MNISTModel, \n",
    "    environment=Python([\"tensorflow\"]), \n",
    "    name=\"v2\", \n",
    "    artifacts={\"mnist_model\" : \"mnist.tf_saved_model/\"}\n",
    ")"
   ]
  },
  {
   "cell_type": "markdown",
   "metadata": {},
   "source": [
    "### 2.3 (OR) Register a serialized version of the model using the VertaModelBase (Variation: take in a base64 encoded input vs. a tensor)"
   ]
  },
  {
   "cell_type": "code",
   "execution_count": 14,
   "metadata": {},
   "outputs": [],
   "source": [
    "class MNISTModel2(VertaModelBase):\n",
    "    def __init__(self, artifacts):\n",
    "        import tensorflow as tf\n",
    "        import base64\n",
    "        self.model = tf.keras.models.load_model(artifacts[\"mnist_model\"])\n",
    "    \n",
    "    def predict(self, input_data):\n",
    "        # decode base64\n",
    "        import base64\n",
    "        output = []\n",
    "        for input_data_point in input_data:\n",
    "            decoded_data = base64.b64decode(input_data_point[\"img_bytes\"])\n",
    "            decoded_data = tf.io.decode_image(decoded_data)\n",
    "            decoded_data = tf.reshape(decoded_data, (1, 28, 28))\n",
    "            output.append(self.model(decoded_data).numpy().tolist())\n",
    "        return output"
   ]
  },
  {
   "cell_type": "code",
   "execution_count": 15,
   "metadata": {},
   "outputs": [],
   "source": [
    "# test locally\n",
    "import base64\n",
    "mnist_model2 = MNISTModel2({\"mnist_model\" : \"mnist.tf_saved_model/\"})\n",
    "with open(\"2.png\", \"rb\") as image_file:\n",
    "    encoded_string = base64.b64encode(image_file.read())\n",
    "    print(mnist_model2.predict([{\"img_bytes\" : encoded_string}]))"
   ]
  },
  {
   "cell_type": "code",
   "execution_count": 16,
   "metadata": {},
   "outputs": [],
   "source": [
    "model_version_from_cls_base64 = registered_model.create_standard_model(\n",
    "    MNISTModel2, \n",
    "    environment=Python([\"tensorflow\"]), \n",
    "    name=\"v3\", \n",
    "    artifacts={\"mnist_model\" : \"mnist.tf_saved_model/\"}\n",
    ")"
   ]
  },
  {
   "cell_type": "markdown",
   "metadata": {},
   "source": [
    "## 3. Deploy model to endpoint"
   ]
  },
  {
   "cell_type": "code",
   "execution_count": 17,
   "metadata": {},
   "outputs": [],
   "source": [
    "mnist_endpoint = client.get_or_create_endpoint(\"mnist\")\n",
    "mnist_endpoint.update(model_version_from_obj, wait=True)\n",
    "deployed_model = mnist_endpoint.get_deployed_model()\n",
    "deployed_model.predict([x_test[0]])"
   ]
  },
  {
   "cell_type": "code",
   "execution_count": 18,
   "metadata": {},
   "outputs": [],
   "source": [
    "mnist_endpoint = client.get_or_create_endpoint(\"mnist\")\n",
    "mnist_endpoint.update(model_version_from_cls, wait=True)\n",
    "deployed_model = mnist_endpoint.get_deployed_model()\n",
    "deployed_model.predict([x_test[0]])"
   ]
  },
  {
   "cell_type": "code",
   "execution_count": 19,
   "metadata": {},
   "outputs": [],
   "source": [
    "mnist_endpoint = client.get_or_create_endpoint(\"mnist\")\n",
    "mnist_endpoint.update(model_version_from_cls_base64, wait=True)\n",
    "deployed_model = mnist_endpoint.get_deployed_model()\n",
    "with open(\"2.png\", \"rb\") as image_file:\n",
    "    encoded_string = base64.b64encode(image_file.read())\n",
    "    print(deployed_model.predict([{\"img_bytes\" : encoded_string}]))"
   ]
  },
  {
   "cell_type": "markdown",
   "metadata": {},
   "source": [
    "---"
   ]
  }
 ],
 "metadata": {
  "kernelspec": {
   "display_name": "Python 3",
   "language": "python",
   "name": "python3"
  },
  "language_info": {
   "codemirror_mode": {
    "name": "ipython",
    "version": 3
   },
   "file_extension": ".py",
   "mimetype": "text/x-python",
   "name": "python",
   "nbconvert_exporter": "python",
   "pygments_lexer": "ipython3",
   "version": "3.6.8"
  }
 },
 "nbformat": 4,
 "nbformat_minor": 2
}
