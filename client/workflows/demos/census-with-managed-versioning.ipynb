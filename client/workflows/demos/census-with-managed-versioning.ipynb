{
 "cells": [
  {
   "cell_type": "markdown",
   "metadata": {},
   "source": [
    "# Logistic Regression with Grid Search (scikit-learn)"
   ]
  },
  {
   "cell_type": "markdown",
   "metadata": {},
   "source": [
    "<a href=\"https://colab.research.google.com/github/VertaAI/modeldb/blob/master/client/workflows/demos/census-with-managed-versioning.ipynb\" target=\"_parent\"><img src=\"https://colab.research.google.com/assets/colab-badge.svg\" alt=\"Open In Colab\"/></a>"
   ]
  },
  {
   "cell_type": "code",
   "execution_count": 1,
   "metadata": {},
   "outputs": [],
   "source": [
    "# restart your notebook if prompted on Colab\n",
    "try:\n",
    "    import verta\n",
    "except ImportError:\n",
    "    !pip install verta"
   ]
  },
  {
   "cell_type": "markdown",
   "metadata": {},
   "source": [
    "This example builds on our [basic census income classification example](census-end-to-end.ipynb) by incorporating [S3 data versioning](https://verta.readthedocs.io/en/master/_autogen/verta.dataset.S3.html)."
   ]
  },
  {
   "cell_type": "code",
   "execution_count": 2,
   "metadata": {},
   "outputs": [],
   "source": [
    "HOST = \"app.verta.ai\"\n",
    "\n",
    "PROJECT_NAME = \"Census Income Classification - S3 Data\"\n",
    "EXPERIMENT_NAME = \"Logistic Regression\""
   ]
  },
  {
   "cell_type": "code",
   "execution_count": 3,
   "metadata": {},
   "outputs": [],
   "source": [
    "# import os\n",
    "# os.environ['VERTA_EMAIL'] = ''\n",
    "# os.environ['VERTA_DEV_KEY'] = ''"
   ]
  },
  {
   "cell_type": "markdown",
   "metadata": {},
   "source": [
    "## Imports"
   ]
  },
  {
   "cell_type": "code",
   "execution_count": 4,
   "metadata": {},
   "outputs": [],
   "source": [
    "from __future__ import print_function\n",
    "\n",
    "import warnings\n",
    "from sklearn.exceptions import ConvergenceWarning\n",
    "warnings.filterwarnings(\"ignore\", category=ConvergenceWarning)\n",
    "warnings.filterwarnings(\"ignore\", category=FutureWarning)\n",
    "\n",
    "import itertools\n",
    "import os\n",
    "\n",
    "import numpy as np\n",
    "import pandas as pd\n",
    "\n",
    "import sklearn\n",
    "from sklearn import model_selection\n",
    "from sklearn import linear_model"
   ]
  },
  {
   "cell_type": "code",
   "execution_count": 5,
   "metadata": {},
   "outputs": [],
   "source": [
    "try:\n",
    "    import wget\n",
    "except ImportError:\n",
    "    !pip install wget  # you may need pip3\n",
    "    import wget"
   ]
  },
  {
   "cell_type": "markdown",
   "metadata": {},
   "source": [
    "---"
   ]
  },
  {
   "cell_type": "markdown",
   "metadata": {},
   "source": [
    "# Log Workflow"
   ]
  },
  {
   "cell_type": "markdown",
   "metadata": {},
   "source": [
    "This section demonstrates logging model metadata and training artifacts to ModelDB."
   ]
  },
  {
   "cell_type": "markdown",
   "metadata": {},
   "source": [
    "## Instantiate Client"
   ]
  },
  {
   "cell_type": "code",
   "execution_count": 6,
   "metadata": {
    "scrolled": true
   },
   "outputs": [],
   "source": [
    "from verta import Client\n",
    "from verta.utils import ModelAPI\n",
    "\n",
    "client = Client(HOST)"
   ]
  },
  {
   "cell_type": "markdown",
   "metadata": {},
   "source": [
    "<h2 style=\"color:blue\">Prepare Data</h2>"
   ]
  },
  {
   "cell_type": "code",
   "execution_count": 7,
   "metadata": {},
   "outputs": [],
   "source": [
    "bucket = \"verta-starter\"\n",
    "key = \"census-train.csv\""
   ]
  },
  {
   "cell_type": "markdown",
   "metadata": {},
   "source": [
    "First we download our data from S3 for use in this notebook."
   ]
  },
  {
   "cell_type": "code",
   "execution_count": 8,
   "metadata": {},
   "outputs": [],
   "source": [
    "data_dir = os.curdir\n",
    "train_data_filename = os.path.join(data_dir, key)\n",
    "\n",
    "if not os.path.exists(train_data_filename):\n",
    "    train_data_url = \"http://s3.amazonaws.com/{}/{}\".format(bucket, key)\n",
    "    wget.download(train_data_url, train_data_filename)"
   ]
  },
  {
   "cell_type": "markdown",
   "metadata": {},
   "source": [
    "Then we version our dataset; with `enable_mdb_versioning=True`, the client will obtain the data file(s) from S3 and store them in ModelDB."
   ]
  },
  {
   "cell_type": "code",
   "execution_count": 9,
   "metadata": {},
   "outputs": [],
   "source": [
    "from verta.dataset import S3\n",
    "\n",
    "dataset = client.set_dataset(name=\"Census Income S3\")\n",
    "content = S3(\"s3://{}/{}\".format(bucket, key), enable_mdb_versioning=True)\n",
    "version = dataset.create_version(content)"
   ]
  },
  {
   "cell_type": "code",
   "execution_count": 10,
   "metadata": {},
   "outputs": [],
   "source": [
    "df_train = pd.read_csv(train_data_filename)\n",
    "X_train = df_train.iloc[:,:-1]\n",
    "y_train = df_train.iloc[:, -1]\n",
    "\n",
    "df_train.head()"
   ]
  },
  {
   "cell_type": "markdown",
   "metadata": {},
   "source": [
    "## Prepare Hyperparameters"
   ]
  },
  {
   "cell_type": "code",
   "execution_count": 11,
   "metadata": {},
   "outputs": [],
   "source": [
    "hyperparam_candidates = {\n",
    "    'C': [1e-6, 1e-4],\n",
    "    'solver': ['lbfgs'],\n",
    "    'max_iter': [15, 28],\n",
    "}\n",
    "hyperparam_sets = [dict(zip(hyperparam_candidates.keys(), values))\n",
    "                   for values\n",
    "                   in itertools.product(*hyperparam_candidates.values())]"
   ]
  },
  {
   "cell_type": "markdown",
   "metadata": {},
   "source": [
    "## Train Models"
   ]
  },
  {
   "cell_type": "code",
   "execution_count": 12,
   "metadata": {
    "scrolled": true
   },
   "outputs": [],
   "source": [
    "def run_experiment(hyperparams):\n",
    "    # create object to track experiment run\n",
    "    run = client.set_experiment_run()\n",
    "    \n",
    "    # create validation split\n",
    "    (X_val_train, X_val_test,\n",
    "     y_val_train, y_val_test) = model_selection.train_test_split(X_train, y_train,\n",
    "                                                                 test_size=0.2,\n",
    "                                                                 shuffle=True)\n",
    "\n",
    "    # log hyperparameters\n",
    "    run.log_hyperparameters(hyperparams)\n",
    "    print(hyperparams, end=' ')\n",
    "    \n",
    "    # create and train model\n",
    "    model = linear_model.LogisticRegression(**hyperparams)\n",
    "    model.fit(X_train, y_train)\n",
    "    \n",
    "    # calculate and log validation accuracy\n",
    "    val_acc = model.score(X_val_test, y_val_test)\n",
    "    run.log_metric(\"val_acc\", val_acc)\n",
    "    print(\"Validation accuracy: {:.4f}\".format(val_acc))\n",
    "    \n",
    "    # create deployment artifacts\n",
    "    model_api = ModelAPI(X_train, y_train)\n",
    "    requirements = [\"scikit-learn\"]\n",
    "    \n",
    "    # save and log model\n",
    "    run.log_model(model, model_api=model_api)\n",
    "    run.log_requirements(requirements)\n",
    "    \n",
    "    # log dataset snapshot as version\n",
    "    run.log_dataset_version(\"train\", version)\n",
    "\n",
    "\n",
    "proj = client.set_project(PROJECT_NAME)\n",
    "expt = client.set_experiment(EXPERIMENT_NAME)\n",
    "for hyperparams in hyperparam_sets:\n",
    "    run_experiment(hyperparams)"
   ]
  },
  {
   "cell_type": "markdown",
   "metadata": {},
   "source": [
    "---"
   ]
  },
  {
   "cell_type": "markdown",
   "metadata": {},
   "source": [
    "# Retrieve data"
   ]
  },
  {
   "cell_type": "markdown",
   "metadata": {},
   "source": [
    "Let's say our data file becomes lost in the future."
   ]
  },
  {
   "cell_type": "code",
   "execution_count": 13,
   "metadata": {},
   "outputs": [],
   "source": [
    "os.remove(train_data_filename)"
   ]
  },
  {
   "cell_type": "markdown",
   "metadata": {},
   "source": [
    "Because we've used ModelDB to manage our data, we can obtain the dataset version from our experiment run, and use it to recover our original dataset."
   ]
  },
  {
   "cell_type": "code",
   "execution_count": 14,
   "metadata": {
    "scrolled": false
   },
   "outputs": [],
   "source": [
    "run = proj.expt_runs[0]\n",
    "version = run.get_dataset_version(\"train\")\n",
    "\n",
    "version.get_content().download(\n",
    "    \"s3://{}/{}\".format(bucket, key),\n",
    "    download_to_path=train_data_filename,\n",
    ")"
   ]
  },
  {
   "cell_type": "code",
   "execution_count": 15,
   "metadata": {},
   "outputs": [],
   "source": [
    "pd.read_csv(train_data_filename).head()"
   ]
  },
  {
   "cell_type": "markdown",
   "metadata": {},
   "source": [
    "---"
   ]
  }
 ],
 "metadata": {
  "kernelspec": {
   "display_name": "Python 3",
   "language": "python",
   "name": "python3"
  },
  "language_info": {
   "codemirror_mode": {
    "name": "ipython",
    "version": 3
   },
   "file_extension": ".py",
   "mimetype": "text/x-python",
   "name": "python",
   "nbconvert_exporter": "python",
   "pygments_lexer": "ipython3",
   "version": "3.7.10"
  }
 },
 "nbformat": 4,
 "nbformat_minor": 2
}
