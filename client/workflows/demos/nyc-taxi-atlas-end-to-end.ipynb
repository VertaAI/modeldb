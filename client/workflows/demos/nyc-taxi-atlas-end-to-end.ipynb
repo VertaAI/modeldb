{
 "cells": [
  {
   "cell_type": "markdown",
   "metadata": {},
   "source": [
    "# NYC Taxi Dataset on Atlas/Hive"
   ]
  },
  {
   "cell_type": "markdown",
   "metadata": {},
   "source": [
    "## Environment"
   ]
  },
  {
   "cell_type": "code",
   "execution_count": 1,
   "metadata": {},
   "outputs": [],
   "source": [
    "try:\n",
    "    import verta\n",
    "except ImportError:\n",
    "    !pip3 install verta\n",
    "\n",
    "try:\n",
    "    from pyhive import hive\n",
    "except ImportError:\n",
    "    !pip3 install pyhive\n",
    "    !pip3 install thrift\n",
    "    !pip3 install sasl\n",
    "    !pip3 install thrift_sasl\n",
    "    from pyhive import hive\n",
    "\n",
    "from __future__ import print_function\n",
    "\n",
    "import warnings\n",
    "warnings.filterwarnings(\"ignore\", category=FutureWarning)\n",
    "\n",
    "import pandas as pd"
   ]
  },
  {
   "cell_type": "code",
   "execution_count": 2,
   "metadata": {},
   "outputs": [],
   "source": [
    "HOST = \"app.verta.ai\"\n",
    "\n",
    "PROJECT_NAME = \"NYC Taxi Demand Prediction\""
   ]
  },
  {
   "cell_type": "code",
   "execution_count": 3,
   "metadata": {},
   "outputs": [],
   "source": [
    "# import os\n",
    "# os.environ['VERTA_EMAIL'] = ''\n",
    "# os.environ['VERTA_DEV_KEY'] = ''"
   ]
  },
  {
   "cell_type": "markdown",
   "metadata": {},
   "source": [
    "---"
   ]
  },
  {
   "cell_type": "markdown",
   "metadata": {},
   "source": [
    "## Read Connection Information for Atlas/Hive from Environment"
   ]
  },
  {
   "cell_type": "code",
   "execution_count": 4,
   "metadata": {},
   "outputs": [],
   "source": [
    "atlas_url = %env ATLAS_URL\n",
    "atlas_user_name = %env ATLAS_USER_NAME\n",
    "atlas_password = %env ATLAS_PASSWORD\n",
    "hive_url = %env HIVE_URL\n",
    "hive_password = %env HIVE_PASSWORD\n",
    "print(\"Atlas username {}set\".format('' if atlas_user_name else \"NOT \"))\n",
    "print(\"Atlas password {}set\".format('' if atlas_password else \"NOT \"))\n",
    "print(\"Hive password {}set\".format('' if hive_password else \"NOT \"))\n",
    "[atlas_url, hive_url]"
   ]
  },
  {
   "cell_type": "markdown",
   "metadata": {},
   "source": [
    "## Instantiate Client"
   ]
  },
  {
   "cell_type": "code",
   "execution_count": 5,
   "metadata": {
    "scrolled": true
   },
   "outputs": [],
   "source": [
    "from verta import Client\n",
    "from verta.utils import ModelAPI\n",
    "\n",
    "client = Client(HOST)\n",
    "proj = client.set_project(PROJECT_NAME)"
   ]
  },
  {
   "cell_type": "markdown",
   "metadata": {},
   "source": [
    "## Create Dataset and Dataset Version"
   ]
  },
  {
   "cell_type": "code",
   "execution_count": 6,
   "metadata": {},
   "outputs": [],
   "source": [
    "dataset = client.set_dataset(\"NYC Taxi Dataset on Atlas and Hive\", type=\"atlas hive\")"
   ]
  },
  {
   "cell_type": "code",
   "execution_count": 7,
   "metadata": {},
   "outputs": [],
   "source": [
    "atlas_entity_endpoint = \"/api/atlas/v2/entity/bulk\"\n",
    "atlas_guid = \"d2fdde40-706f-44af-afde-155177b8d2e4\""
   ]
  },
  {
   "cell_type": "code",
   "execution_count": 8,
   "metadata": {
    "scrolled": true
   },
   "outputs": [],
   "source": [
    "version = dataset.create_version(atlas_guid, \n",
    "                                 atlas_url, atlas_user_name,\n",
    "                                 atlas_password)"
   ]
  },
  {
   "cell_type": "markdown",
   "metadata": {},
   "source": [
    "---"
   ]
  },
  {
   "cell_type": "markdown",
   "metadata": {},
   "source": [
    "# Fetch Data from Hive"
   ]
  },
  {
   "cell_type": "code",
   "execution_count": 9,
   "metadata": {},
   "outputs": [],
   "source": [
    "table_name = list(filter(lambda x: x.key==\"table_name\", version.attrs))[0].value.string_value\n",
    "database_name = list(filter(lambda x: x.key==\"database_name\", version.attrs))[0].value.string_value\n",
    "query = \"select * from {}.{}\".format(database_name, table_name)"
   ]
  },
  {
   "cell_type": "code",
   "execution_count": 10,
   "metadata": {},
   "outputs": [],
   "source": [
    "cursor = hive.connect(hive_url).cursor()\n",
    "cursor.execute(query)\n",
    "\n",
    "data = cursor.fetchall()\n",
    "\n",
    "col_names = [x[0] for x in cursor.description]\n",
    "data_frame = pd.DataFrame(data, columns=col_names)\n",
    "data_frame.head()"
   ]
  },
  {
   "cell_type": "markdown",
   "metadata": {},
   "source": [
    "---"
   ]
  }
 ],
 "metadata": {
  "kernelspec": {
   "display_name": "Python 3",
   "language": "python",
   "name": "python3"
  },
  "language_info": {
   "codemirror_mode": {
    "name": "ipython",
    "version": 3
   },
   "file_extension": ".py",
   "mimetype": "text/x-python",
   "name": "python",
   "nbconvert_exporter": "python",
   "pygments_lexer": "ipython3",
   "version": "3.7.3"
  }
 },
 "nbformat": 4,
 "nbformat_minor": 2
}
