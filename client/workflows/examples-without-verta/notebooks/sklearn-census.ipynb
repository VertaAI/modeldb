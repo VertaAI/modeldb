{
 "cells": [
  {
   "cell_type": "markdown",
   "metadata": {},
   "source": [
    "# Logistic Regression with Hyperparameter Optimization (scikit-learn)"
   ]
  },
  {
   "cell_type": "markdown",
   "metadata": {},
   "source": [
    "<a href=\"https://colab.research.google.com/github/VertaAI/modeldb/blob/master/client/workflows/examples-without-verta/notebooks/sklearn-census.ipynb\" target=\"_parent\"><img src=\"https://colab.research.google.com/assets/colab-badge.svg\" alt=\"Open In Colab\"/></a>"
   ]
  },
  {
   "cell_type": "markdown",
   "metadata": {},
   "source": [
    "## Imports"
   ]
  },
  {
   "cell_type": "code",
   "execution_count": 1,
   "metadata": {},
   "outputs": [],
   "source": [
    "import warnings\n",
    "from sklearn.exceptions import ConvergenceWarning\n",
    "warnings.filterwarnings(\"ignore\", category=ConvergenceWarning)\n",
    "\n",
    "import itertools\n",
    "import time\n",
    "\n",
    "import numpy as np\n",
    "import pandas as pd\n",
    "\n",
    "from sklearn import model_selection\n",
    "from sklearn import linear_model\n",
    "from sklearn import metrics"
   ]
  },
  {
   "cell_type": "markdown",
   "metadata": {},
   "source": [
    "---"
   ]
  },
  {
   "cell_type": "markdown",
   "metadata": {},
   "source": [
    "## Prepare Data"
   ]
  },
  {
   "cell_type": "code",
   "execution_count": 2,
   "metadata": {},
   "outputs": [],
   "source": [
    "try:\n",
    "    import wget\n",
    "except ImportError:\n",
    "    !pip install wget # you may need pip3\n",
    "    import wget"
   ]
  },
  {
   "cell_type": "code",
   "execution_count": 3,
   "metadata": {},
   "outputs": [],
   "source": [
    "train_data_url = \"http://s3.amazonaws.com/verta-starter/census-train.csv\"\n",
    "train_data_filename = wget.download(train_data_url)\n",
    "test_data_url = \"http://s3.amazonaws.com/verta-starter/census-test.csv\"\n",
    "test_data_filename = wget.download(test_data_url)"
   ]
  },
  {
   "cell_type": "code",
   "execution_count": 4,
   "metadata": {},
   "outputs": [
    {
     "data": {
      "text/html": [
       "<div>\n",
       "<style scoped>\n",
       "    .dataframe tbody tr th:only-of-type {\n",
       "        vertical-align: middle;\n",
       "    }\n",
       "\n",
       "    .dataframe tbody tr th {\n",
       "        vertical-align: top;\n",
       "    }\n",
       "\n",
       "    .dataframe thead th {\n",
       "        text-align: right;\n",
       "    }\n",
       "</style>\n",
       "<table border=\"1\" class=\"dataframe\">\n",
       "  <thead>\n",
       "    <tr style=\"text-align: right;\">\n",
       "      <th></th>\n",
       "      <th>age</th>\n",
       "      <th>capital-gain</th>\n",
       "      <th>capital-loss</th>\n",
       "      <th>hours-per-week</th>\n",
       "      <th>workclass_local-gov</th>\n",
       "      <th>workclass_private</th>\n",
       "      <th>workclass_self-emp-inc</th>\n",
       "      <th>workclass_self-emp-not-inc</th>\n",
       "      <th>workclass_state-gov</th>\n",
       "      <th>workclass_without-pay</th>\n",
       "      <th>...</th>\n",
       "      <th>occupation_handlers-cleaners</th>\n",
       "      <th>occupation_machine-op-inspct</th>\n",
       "      <th>occupation_other-service</th>\n",
       "      <th>occupation_priv-house-serv</th>\n",
       "      <th>occupation_prof-specialty</th>\n",
       "      <th>occupation_protective-serv</th>\n",
       "      <th>occupation_sales</th>\n",
       "      <th>occupation_tech-support</th>\n",
       "      <th>occupation_transport-moving</th>\n",
       "      <th>&gt;50k</th>\n",
       "    </tr>\n",
       "  </thead>\n",
       "  <tbody>\n",
       "    <tr>\n",
       "      <th>0</th>\n",
       "      <td>44</td>\n",
       "      <td>0</td>\n",
       "      <td>0</td>\n",
       "      <td>40</td>\n",
       "      <td>0</td>\n",
       "      <td>1</td>\n",
       "      <td>0</td>\n",
       "      <td>0</td>\n",
       "      <td>0</td>\n",
       "      <td>0</td>\n",
       "      <td>...</td>\n",
       "      <td>0</td>\n",
       "      <td>0</td>\n",
       "      <td>0</td>\n",
       "      <td>0</td>\n",
       "      <td>0</td>\n",
       "      <td>0</td>\n",
       "      <td>0</td>\n",
       "      <td>0</td>\n",
       "      <td>0</td>\n",
       "      <td>0</td>\n",
       "    </tr>\n",
       "    <tr>\n",
       "      <th>1</th>\n",
       "      <td>21</td>\n",
       "      <td>0</td>\n",
       "      <td>0</td>\n",
       "      <td>40</td>\n",
       "      <td>0</td>\n",
       "      <td>1</td>\n",
       "      <td>0</td>\n",
       "      <td>0</td>\n",
       "      <td>0</td>\n",
       "      <td>0</td>\n",
       "      <td>...</td>\n",
       "      <td>0</td>\n",
       "      <td>0</td>\n",
       "      <td>1</td>\n",
       "      <td>0</td>\n",
       "      <td>0</td>\n",
       "      <td>0</td>\n",
       "      <td>0</td>\n",
       "      <td>0</td>\n",
       "      <td>0</td>\n",
       "      <td>0</td>\n",
       "    </tr>\n",
       "    <tr>\n",
       "      <th>2</th>\n",
       "      <td>53</td>\n",
       "      <td>7298</td>\n",
       "      <td>0</td>\n",
       "      <td>60</td>\n",
       "      <td>0</td>\n",
       "      <td>1</td>\n",
       "      <td>0</td>\n",
       "      <td>0</td>\n",
       "      <td>0</td>\n",
       "      <td>0</td>\n",
       "      <td>...</td>\n",
       "      <td>0</td>\n",
       "      <td>0</td>\n",
       "      <td>0</td>\n",
       "      <td>0</td>\n",
       "      <td>0</td>\n",
       "      <td>0</td>\n",
       "      <td>1</td>\n",
       "      <td>0</td>\n",
       "      <td>0</td>\n",
       "      <td>1</td>\n",
       "    </tr>\n",
       "    <tr>\n",
       "      <th>3</th>\n",
       "      <td>49</td>\n",
       "      <td>0</td>\n",
       "      <td>0</td>\n",
       "      <td>40</td>\n",
       "      <td>0</td>\n",
       "      <td>1</td>\n",
       "      <td>0</td>\n",
       "      <td>0</td>\n",
       "      <td>0</td>\n",
       "      <td>0</td>\n",
       "      <td>...</td>\n",
       "      <td>0</td>\n",
       "      <td>0</td>\n",
       "      <td>1</td>\n",
       "      <td>0</td>\n",
       "      <td>0</td>\n",
       "      <td>0</td>\n",
       "      <td>0</td>\n",
       "      <td>0</td>\n",
       "      <td>0</td>\n",
       "      <td>0</td>\n",
       "    </tr>\n",
       "    <tr>\n",
       "      <th>4</th>\n",
       "      <td>53</td>\n",
       "      <td>0</td>\n",
       "      <td>1485</td>\n",
       "      <td>40</td>\n",
       "      <td>0</td>\n",
       "      <td>1</td>\n",
       "      <td>0</td>\n",
       "      <td>0</td>\n",
       "      <td>0</td>\n",
       "      <td>0</td>\n",
       "      <td>...</td>\n",
       "      <td>0</td>\n",
       "      <td>0</td>\n",
       "      <td>0</td>\n",
       "      <td>0</td>\n",
       "      <td>0</td>\n",
       "      <td>0</td>\n",
       "      <td>1</td>\n",
       "      <td>0</td>\n",
       "      <td>0</td>\n",
       "      <td>1</td>\n",
       "    </tr>\n",
       "  </tbody>\n",
       "</table>\n",
       "<p>5 rows × 44 columns</p>\n",
       "</div>"
      ],
      "text/plain": [
       "   age  capital-gain  capital-loss  hours-per-week  workclass_local-gov  \\\n",
       "0   44             0             0              40                    0   \n",
       "1   21             0             0              40                    0   \n",
       "2   53          7298             0              60                    0   \n",
       "3   49             0             0              40                    0   \n",
       "4   53             0          1485              40                    0   \n",
       "\n",
       "   workclass_private  workclass_self-emp-inc  workclass_self-emp-not-inc  \\\n",
       "0                  1                       0                           0   \n",
       "1                  1                       0                           0   \n",
       "2                  1                       0                           0   \n",
       "3                  1                       0                           0   \n",
       "4                  1                       0                           0   \n",
       "\n",
       "   workclass_state-gov  workclass_without-pay  ...  \\\n",
       "0                    0                      0  ...   \n",
       "1                    0                      0  ...   \n",
       "2                    0                      0  ...   \n",
       "3                    0                      0  ...   \n",
       "4                    0                      0  ...   \n",
       "\n",
       "   occupation_handlers-cleaners  occupation_machine-op-inspct  \\\n",
       "0                             0                             0   \n",
       "1                             0                             0   \n",
       "2                             0                             0   \n",
       "3                             0                             0   \n",
       "4                             0                             0   \n",
       "\n",
       "   occupation_other-service  occupation_priv-house-serv  \\\n",
       "0                         0                           0   \n",
       "1                         1                           0   \n",
       "2                         0                           0   \n",
       "3                         1                           0   \n",
       "4                         0                           0   \n",
       "\n",
       "   occupation_prof-specialty  occupation_protective-serv  occupation_sales  \\\n",
       "0                          0                           0                 0   \n",
       "1                          0                           0                 0   \n",
       "2                          0                           0                 1   \n",
       "3                          0                           0                 0   \n",
       "4                          0                           0                 1   \n",
       "\n",
       "   occupation_tech-support  occupation_transport-moving  >50k  \n",
       "0                        0                            0     0  \n",
       "1                        0                            0     0  \n",
       "2                        0                            0     1  \n",
       "3                        0                            0     0  \n",
       "4                        0                            0     1  \n",
       "\n",
       "[5 rows x 44 columns]"
      ]
     },
     "execution_count": 4,
     "metadata": {},
     "output_type": "execute_result"
    }
   ],
   "source": [
    "df_train = pd.read_csv(\"census-train.csv\")\n",
    "X_train = df_train.iloc[:,:-1].values\n",
    "y_train = df_train.iloc[:, -1]\n",
    "\n",
    "df_train.head()"
   ]
  },
  {
   "cell_type": "markdown",
   "metadata": {},
   "source": [
    "## Prepare Hyperparameters"
   ]
  },
  {
   "cell_type": "code",
   "execution_count": 5,
   "metadata": {},
   "outputs": [],
   "source": [
    "hyperparam_candidates = {\n",
    "    'C': [1e-4, 1e-1, 1, 10, 1e3],\n",
    "    'solver': ['liblinear', 'lbfgs'],\n",
    "    'max_iter': [15, 28],\n",
    "}\n",
    "\n",
    "# total models 20\n",
    "\n",
    "# create hyperparam combinations\n",
    "hyperparam_sets = [dict(zip(hyperparam_candidates.keys(), values))\n",
    "                   for values\n",
    "                   in itertools.product(*hyperparam_candidates.values())]"
   ]
  },
  {
   "cell_type": "markdown",
   "metadata": {},
   "source": [
    "## Run Validation"
   ]
  },
  {
   "cell_type": "code",
   "execution_count": 6,
   "metadata": {
    "scrolled": true
   },
   "outputs": [
    {
     "name": "stdout",
     "output_type": "stream",
     "text": [
      "{'C': 0.0001, 'solver': 'liblinear', 'max_iter': 15} Validation accuracy: 0.7941\n",
      "{'C': 0.0001, 'solver': 'liblinear', 'max_iter': 28} Validation accuracy: 0.7999\n",
      "{'C': 0.0001, 'solver': 'lbfgs', 'max_iter': 15} Validation accuracy: 0.7930\n",
      "{'C': 0.0001, 'solver': 'lbfgs', 'max_iter': 28} Validation accuracy: 0.7919\n",
      "{'C': 0.1, 'solver': 'liblinear', 'max_iter': 15} Validation accuracy: 0.7939\n",
      "{'C': 0.1, 'solver': 'liblinear', 'max_iter': 28} Validation accuracy: 0.8459\n",
      "{'C': 0.1, 'solver': 'lbfgs', 'max_iter': 15} Validation accuracy: 0.7928\n",
      "{'C': 0.1, 'solver': 'lbfgs', 'max_iter': 28} Validation accuracy: 0.7930\n",
      "{'C': 1, 'solver': 'liblinear', 'max_iter': 15} Validation accuracy: 0.7939\n",
      "{'C': 1, 'solver': 'liblinear', 'max_iter': 28} Validation accuracy: 0.8470\n",
      "{'C': 1, 'solver': 'lbfgs', 'max_iter': 15} Validation accuracy: 0.7928\n",
      "{'C': 1, 'solver': 'lbfgs', 'max_iter': 28} Validation accuracy: 0.7930\n",
      "{'C': 10, 'solver': 'liblinear', 'max_iter': 15} Validation accuracy: 0.7939\n",
      "{'C': 10, 'solver': 'liblinear', 'max_iter': 28} Validation accuracy: 0.8473\n",
      "{'C': 10, 'solver': 'lbfgs', 'max_iter': 15} Validation accuracy: 0.7928\n",
      "{'C': 10, 'solver': 'lbfgs', 'max_iter': 28} Validation accuracy: 0.7930\n",
      "{'C': 1000.0, 'solver': 'liblinear', 'max_iter': 15} Validation accuracy: 0.7939\n",
      "{'C': 1000.0, 'solver': 'liblinear', 'max_iter': 28} Validation accuracy: 0.8473\n",
      "{'C': 1000.0, 'solver': 'lbfgs', 'max_iter': 15} Validation accuracy: 0.7928\n",
      "{'C': 1000.0, 'solver': 'lbfgs', 'max_iter': 28} Validation accuracy: 0.7930\n"
     ]
    }
   ],
   "source": [
    "# create validation split\n",
    "(X_val_train, X_val_test,\n",
    " y_val_train, y_val_test) = model_selection.train_test_split(X_train, y_train,\n",
    "                                                             test_size=0.2,\n",
    "                                                             shuffle=True)    \n",
    "\n",
    "def run_experiment(hyperparams):\n",
    "    \n",
    "    # create and train model\n",
    "    model = linear_model.LogisticRegression(**hyperparams)\n",
    "    model.fit(X_train, y_train)\n",
    "    \n",
    "    # calculate and log validation accuracy\n",
    "    val_acc = model.score(X_val_test, y_val_test)\n",
    "    print(hyperparams, end=' ')\n",
    "    print(\"Validation accuracy: {:.4f}\".format(val_acc))\n",
    "    \n",
    "for hyperams in hyperparam_sets:\n",
    "    run_experiment(hyperams)"
   ]
  },
  {
   "cell_type": "markdown",
   "metadata": {},
   "source": [
    "## Pick the best hyperparameters and train the full data"
   ]
  },
  {
   "cell_type": "code",
   "execution_count": 7,
   "metadata": {},
   "outputs": [
    {
     "data": {
      "text/plain": [
       "LogisticRegression()"
      ]
     },
     "execution_count": 7,
     "metadata": {},
     "output_type": "execute_result"
    }
   ],
   "source": [
    "best_hyperparams = {}\n",
    "model = linear_model.LogisticRegression(multi_class='auto', **best_hyperparams)\n",
    "model.fit(X_train, y_train)"
   ]
  },
  {
   "cell_type": "markdown",
   "metadata": {},
   "source": [
    "## Calculate Accuracy on Full Training Set"
   ]
  },
  {
   "cell_type": "code",
   "execution_count": 8,
   "metadata": {},
   "outputs": [
    {
     "name": "stdout",
     "output_type": "stream",
     "text": [
      "Training accuracy: 0.8432\n"
     ]
    }
   ],
   "source": [
    "train_acc = model.score(X_train, y_train)\n",
    "print(\"Training accuracy: {:.4f}\".format(train_acc))"
   ]
  },
  {
   "cell_type": "markdown",
   "metadata": {},
   "source": [
    "---"
   ]
  }
 ],
 "metadata": {
  "kernelspec": {
   "display_name": "Python 3",
   "language": "python",
   "name": "python3"
  },
  "language_info": {
   "codemirror_mode": {
    "name": "ipython",
    "version": 3
   },
   "file_extension": ".py",
   "mimetype": "text/x-python",
   "name": "python",
   "nbconvert_exporter": "python",
   "pygments_lexer": "ipython3",
   "version": "3.8.5"
  }
 },
 "nbformat": 4,
 "nbformat_minor": 2
}
