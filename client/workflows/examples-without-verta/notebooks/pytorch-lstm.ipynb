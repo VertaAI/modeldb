{
 "cells": [
  {
   "cell_type": "markdown",
   "metadata": {},
   "source": [
    "# LSTM Recurrent Network (PyTorch)"
   ]
  },
  {
   "cell_type": "code",
   "execution_count": 1,
   "metadata": {},
   "outputs": [],
   "source": [
    "import os\n",
    "import json\n",
    "\n",
    "import numpy as np\n",
    "\n",
    "import torch\n",
    "import torch.nn as nn\n",
    "import torch.nn.functional as func\n",
    "import torch.optim as optim\n",
    "import torch.utils.data as data_utils"
   ]
  },
  {
   "cell_type": "markdown",
   "metadata": {},
   "source": [
    "## Data Loading"
   ]
  },
  {
   "cell_type": "code",
   "execution_count": 2,
   "metadata": {},
   "outputs": [],
   "source": [
    "data = np.load(os.path.join(\"..\", \"data\", \"imdb\", \"imdb.npz\"))\n",
    "\n",
    "# gather indices to split training data into training and validation sets\n",
    "data_train = (data['x_train'], data['y_train'])\n",
    "shuffled_idxs = np.random.permutation(data['x_train'].shape[0])\n",
    "idxs_train = shuffled_idxs[len(shuffled_idxs)//10:]  # last 90%\n",
    "idxs_val = shuffled_idxs[:len(shuffled_idxs)//10]  # first 10%\n",
    "\n",
    "x_train, y_train = data['x_train'][idxs_train], data['y_train'][idxs_train]\n",
    "x_val, y_val = data['x_train'][idxs_val], data['y_train'][idxs_val]\n",
    "x_test, y_test = data['x_test'], data['y_test']"
   ]
  },
  {
   "cell_type": "code",
   "execution_count": 3,
   "metadata": {},
   "outputs": [],
   "source": [
    "# create Dataset object to support batch training\n",
    "class TrainingDataset(data_utils.Dataset):\n",
    "    def __init__(self, features, labels):\n",
    "        self.features = features\n",
    "        self.labels = labels\n",
    "        \n",
    "    def __len__(self):\n",
    "        return len(self.labels)\n",
    "    \n",
    "    def __getitem__(self, idx):\n",
    "        return (self.features[idx], self.labels[idx])"
   ]
  },
  {
   "cell_type": "markdown",
   "metadata": {},
   "source": [
    "## Data Preprocessing"
   ]
  },
  {
   "cell_type": "code",
   "execution_count": 4,
   "metadata": {},
   "outputs": [],
   "source": [
    "with open(os.path.join(\"..\", \"data\", \"imdb\", \"imdb_word_index.json\")) as f:\n",
    "    word_index = json.load(f)\n",
    "    \n",
    "# add special tokens\n",
    "word_index = {word: index+3 for word, index in word_index.items()} \n",
    "word_index[\"<PAD>\"] = 0\n",
    "word_index[\"<START>\"] = 1\n",
    "word_index[\"<UNK>\"] = 2  # unknown\n",
    "word_index[\"<UNUSED>\"] = 3"
   ]
  },
  {
   "cell_type": "code",
   "execution_count": 5,
   "metadata": {},
   "outputs": [],
   "source": [
    "# truncate input sequences to max length 300\n",
    "x_train = [seq[:300] if len(seq) > 300 else seq\n",
    "           for seq\n",
    "           in x_train]\n",
    "x_val   = [seq[:300] if len(seq) > 300 else seq\n",
    "           for seq\n",
    "           in x_val]\n",
    "x_test  = [seq[:300] if len(seq) > 300 else seq\n",
    "           for seq\n",
    "           in x_test]\n",
    "\n",
    "# convert input sequences and labels into PyTorch tensors\n",
    "x_train, x_val, x_test = ([torch.tensor(seq, dtype=torch.long) for seq in x_train],\n",
    "                          [torch.tensor(seq, dtype=torch.long) for seq in x_val],\n",
    "                          [torch.tensor(seq, dtype=torch.long) for seq in x_test])\n",
    "y_train, y_val, y_test = (torch.tensor(y_train, dtype=torch.float),\n",
    "                          torch.tensor(y_val, dtype=torch.float),\n",
    "                          torch.tensor(y_test, dtype=torch.float))\n",
    "\n",
    "# pad input sequences\n",
    "x_train = torch.nn.utils.rnn.pad_sequence(x_train, batch_first=True, padding_value=word_index[\"<PAD>\"])\n",
    "x_val   = torch.nn.utils.rnn.pad_sequence(x_val,   batch_first=True, padding_value=word_index[\"<PAD>\"])\n",
    "x_test  = torch.nn.utils.rnn.pad_sequence(x_test,  batch_first=True, padding_value=word_index[\"<PAD>\"])"
   ]
  },
  {
   "cell_type": "markdown",
   "metadata": {},
   "source": [
    "## Model"
   ]
  },
  {
   "cell_type": "code",
   "execution_count": 6,
   "metadata": {},
   "outputs": [],
   "source": [
    "class Net(nn.Module):\n",
    "    def __init__(self):\n",
    "        super().__init__()\n",
    "        self.embedding = nn.Embedding(max(word_index.values())+1, 16)\n",
    "        self.lstm1     = nn.LSTM(16, 32, batch_first=True)\n",
    "        self.dropout   = nn.Dropout(0.2)\n",
    "        self.lstm2     = nn.LSTM(32, 32, batch_first=True)\n",
    "        self.output    = nn.Linear(32, 1)\n",
    "        \n",
    "    def init_hidden(self):\n",
    "        self.hidden1 = torch.randn(1, 1, 32)\n",
    "        self.hidden2 = torch.randn(1, 1, 32)\n",
    "        \n",
    "    def forward(self, x):\n",
    "        x               = self.embedding(x)\n",
    "        x, self.hidden1 = self.lstm1(x)\n",
    "        x               = self.dropout(x)\n",
    "        x, self.hidden2 = self.lstm2(x)\n",
    "        x               = torch.sigmoid(self.output(x[:,-1,:]))\n",
    "        return x.squeeze(-1)"
   ]
  },
  {
   "cell_type": "markdown",
   "metadata": {},
   "source": [
    "## Training"
   ]
  },
  {
   "cell_type": "code",
   "execution_count": 7,
   "metadata": {},
   "outputs": [],
   "source": [
    "# specify training procedure\n",
    "model = Net()\n",
    "\n",
    "criterion = torch.nn.BCELoss()\n",
    "optimizer = torch.optim.Adam(model.parameters(), lr=0.01)\n",
    "\n",
    "num_epochs = 10\n",
    "batch_size = 512"
   ]
  },
  {
   "cell_type": "code",
   "execution_count": 8,
   "metadata": {},
   "outputs": [],
   "source": [
    "# enable batching of training data\n",
    "dataset = TrainingDataset(x_train, y_train)\n",
    "dataloader = data_utils.DataLoader(dataset, batch_size=batch_size, shuffle=True)"
   ]
  },
  {
   "cell_type": "code",
   "execution_count": 9,
   "metadata": {
    "scrolled": false
   },
   "outputs": [],
   "source": [
    "for i_epoch in range(num_epochs):\n",
    "    for i_batch, (x_batch, y_batch) in enumerate(dataloader):\n",
    "        model.zero_grad()  # reset model gradients\n",
    "\n",
    "        output = model(x_batch)  # conduct forward pass\n",
    "\n",
    "        loss = criterion(output, y_batch)  # compare model output w/ ground truth\n",
    "        \n",
    "        print(f\"\\repoch {i_epoch+1}/{num_epochs} | \"\n",
    "              f\"iteration {i_batch+1}/{len(dataloader)} | \"\n",
    "              f\"loss: {loss.item()}\", end='')\n",
    "\n",
    "        loss.backward()  # backpropogate loss to calculate gradients\n",
    "        optimizer.step()  # update model weights\n",
    "    with torch.no_grad():  # no need to calculate gradients when assessing accuracy\n",
    "        print()\n",
    "        pred_train = model(x_train).numpy().round()\n",
    "        print(f\"Training accuracy: {(pred_train == y_train.numpy()).mean()}\")\n",
    "        pred_val = model(x_val).numpy().round()\n",
    "        print(f\"Validation accuracy: {(pred_val == y_val.numpy()).mean()}\")"
   ]
  },
  {
   "cell_type": "markdown",
   "metadata": {},
   "source": [
    "## Testing"
   ]
  },
  {
   "cell_type": "code",
   "execution_count": 10,
   "metadata": {},
   "outputs": [],
   "source": [
    "with torch.no_grad():  # no need to calculate gradients when assessing accuracy\n",
    "    pred_train = model(x_train).numpy().round()\n",
    "    print(f\"Training accuracy: {(pred_train == y_train.numpy()).mean()}\")\n",
    "    pred_test = model(x_test).numpy().round()\n",
    "    print(f\"Testing accuracy: {(pred_test == y_test.numpy()).mean()}\")"
   ]
  },
  {
   "cell_type": "markdown",
   "metadata": {},
   "source": [
    "## Save Model"
   ]
  },
  {
   "cell_type": "code",
   "execution_count": 11,
   "metadata": {},
   "outputs": [],
   "source": [
    "torch.save(model.state_dict(), os.path.join(\"..\", \"output\", \"pytorch-basic.hdf5\"))"
   ]
  }
 ],
 "metadata": {
  "kernelspec": {
   "display_name": "Python 3",
   "language": "python",
   "name": "python3"
  },
  "language_info": {
   "codemirror_mode": {
    "name": "ipython",
    "version": 3
   },
   "file_extension": ".py",
   "mimetype": "text/x-python",
   "name": "python",
   "nbconvert_exporter": "python",
   "pygments_lexer": "ipython3",
   "version": "3.7.3"
  }
 },
 "nbformat": 4,
 "nbformat_minor": 2
}
