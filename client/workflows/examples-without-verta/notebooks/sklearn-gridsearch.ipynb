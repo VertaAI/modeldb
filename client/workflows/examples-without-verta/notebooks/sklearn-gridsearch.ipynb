{
 "cells": [
  {
   "cell_type": "markdown",
   "metadata": {},
   "source": [
    "# Logistic Regression with Grid Search (scikit-learn)"
   ]
  },
  {
   "cell_type": "code",
   "execution_count": 1,
   "metadata": {},
   "outputs": [],
   "source": [
    "import os\n",
    "import itertools\n",
    "\n",
    "import joblib\n",
    "\n",
    "import pandas as pd\n",
    "import numpy as np\n",
    "\n",
    "from sklearn import model_selection\n",
    "from sklearn import linear_model\n",
    "from sklearn import metrics\n",
    "\n",
    "import warnings\n",
    "warnings.filterwarnings('ignore')"
   ]
  },
  {
   "cell_type": "markdown",
   "metadata": {},
   "source": [
    "## Data Loading"
   ]
  },
  {
   "cell_type": "code",
   "execution_count": 2,
   "metadata": {},
   "outputs": [],
   "source": [
    "# load pre-cleaned data from CSV file into pandas DataFrame\n",
    "df = pd.read_csv(os.path.join(\"..\", \"data\", \"census\", \"cleaned-census-data.csv\"), delimiter=',')\n",
    "\n",
    "df.head()"
   ]
  },
  {
   "cell_type": "code",
   "execution_count": 3,
   "metadata": {},
   "outputs": [],
   "source": [
    "# split into features and labels\n",
    "features_df = df.drop('>50K', axis='columns')\n",
    "labels_df = df['>50K']  # we are predicting whether an individual's income exceeds $50k/yr"
   ]
  },
  {
   "cell_type": "markdown",
   "metadata": {},
   "source": [
    "## Data Splitting"
   ]
  },
  {
   "cell_type": "code",
   "execution_count": 4,
   "metadata": {},
   "outputs": [],
   "source": [
    "# extract NumPy arrays from DataFrames\n",
    "X = features_df.values\n",
    "y = labels_df.values\n",
    "\n",
    "# split data into training and testing sets\n",
    "X_train, X_test, y_train, y_test = model_selection.train_test_split(X, y, test_size=0.33)\n",
    "\n",
    "# instantiate iterator that yields train/val indices for each fold of cross validation\n",
    "validation_splitter = model_selection.KFold(n_splits=5, shuffle=True)"
   ]
  },
  {
   "cell_type": "markdown",
   "metadata": {},
   "source": [
    "## Cross Validation"
   ]
  },
  {
   "cell_type": "code",
   "execution_count": 5,
   "metadata": {},
   "outputs": [],
   "source": [
    "hyperparam_candidates = {\n",
    "    'C': [1e-1, 1, 1e1],\n",
    "    'solver': ['lbfgs'],\n",
    "    'max_iter': [1e3, 1e4, 1e5],\n",
    "}\n",
    "hyperparam_sets = [dict(zip(hyperparam_candidates.keys(), values))\n",
    "                   for values\n",
    "                   in itertools.product(*hyperparam_candidates.values())]"
   ]
  },
  {
   "cell_type": "code",
   "execution_count": 6,
   "metadata": {},
   "outputs": [],
   "source": [
    "val_accs = []  # track performance of each hyperparam set\n",
    "for hyperparams in hyperparam_sets:\n",
    "    print(hyperparams, end=' ')\n",
    "    \n",
    "    val_acc = 0  # track average validation accuracy across folds\n",
    "    for idxs_train, idxs_val in validation_splitter.split(X_train, y_train):\n",
    "        # index into training data to produce train/val splits\n",
    "        X_val_train, y_val_train = X[idxs_train], y[idxs_train]\n",
    "        X_val, y_val = X[idxs_val], y[idxs_val]\n",
    "\n",
    "        # create and fit model\n",
    "        model = linear_model.LogisticRegression(**hyperparams)\n",
    "        model.fit(X_val_train, y_val_train)\n",
    "\n",
    "        # accumulate average validation accuracy\n",
    "        val_acc += model.score(X_val, y_val)/validation_splitter.get_n_splits()\n",
    "\n",
    "    # record performance of current hyperparam set\n",
    "    val_accs.append(val_acc)\n",
    "    print(f\"Validation accuracy: {val_acc}\")\n",
    "\n",
    "# pair validation accuracies with hyperparam sets\n",
    "hyperparam_accs = zip(hyperparam_sets, val_accs)"
   ]
  },
  {
   "cell_type": "markdown",
   "metadata": {},
   "source": [
    "## Testing"
   ]
  },
  {
   "cell_type": "code",
   "execution_count": 7,
   "metadata": {},
   "outputs": [],
   "source": [
    "best_hyperparams, best_val_acc = sorted(hyperparam_accs, key=lambda item: item[1])[-1]\n",
    "print(f\"{best_hyperparams} Validation accuracy: {best_val_acc}\")"
   ]
  },
  {
   "cell_type": "code",
   "execution_count": 8,
   "metadata": {
    "scrolled": true
   },
   "outputs": [],
   "source": [
    "# create and fit model using best set of hyperparameters\n",
    "model = linear_model.LogisticRegression(**best_hyperparams)\n",
    "model.fit(X_train, y_train)"
   ]
  },
  {
   "cell_type": "code",
   "execution_count": 9,
   "metadata": {},
   "outputs": [],
   "source": [
    "print(f\"Training accuracy: {model.score(X_train, y_train)}\")\n",
    "print(f\"Testing accuracy: {model.score(X_test, y_test)}\")"
   ]
  },
  {
   "cell_type": "code",
   "execution_count": 10,
   "metadata": {
    "scrolled": true
   },
   "outputs": [],
   "source": [
    "print(f\"Training F-score: {metrics.f1_score(y_train, model.predict(X_train))}\")\n",
    "print(f\"Testing F-score: {metrics.f1_score(y_test, model.predict(X_test))}\")"
   ]
  },
  {
   "cell_type": "markdown",
   "metadata": {},
   "source": [
    "## Save Model"
   ]
  },
  {
   "cell_type": "code",
   "execution_count": 11,
   "metadata": {},
   "outputs": [],
   "source": [
    "joblib.dump(model, os.path.join(\"..\", \"output\", \"logreg_gridsearch.gz\"))"
   ]
  }
 ],
 "metadata": {
  "kernelspec": {
   "display_name": "Python 3",
   "language": "python",
   "name": "python3"
  },
  "language_info": {
   "codemirror_mode": {
    "name": "ipython",
    "version": 3
   },
   "file_extension": ".py",
   "mimetype": "text/x-python",
   "name": "python",
   "nbconvert_exporter": "python",
   "pygments_lexer": "ipython3",
   "version": "3.7.3"
  }
 },
 "nbformat": 4,
 "nbformat_minor": 2
}
