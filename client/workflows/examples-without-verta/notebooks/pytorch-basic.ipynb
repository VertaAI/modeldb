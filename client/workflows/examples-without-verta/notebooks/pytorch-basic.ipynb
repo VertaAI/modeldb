{
 "cells": [
  {
   "cell_type": "markdown",
   "metadata": {},
   "source": [
    "# Fully-Connected Network (PyTorch)"
   ]
  },
  {
   "cell_type": "code",
   "execution_count": 1,
   "metadata": {},
   "outputs": [],
   "source": [
    "import os\n",
    "\n",
    "import numpy as np\n",
    "\n",
    "import torch\n",
    "import torch.nn as nn\n",
    "import torch.nn.functional as func\n",
    "import torch.optim as optim\n",
    "import torch.utils.data as data_utils"
   ]
  },
  {
   "cell_type": "markdown",
   "metadata": {},
   "source": [
    "## Data Loading"
   ]
  },
  {
   "cell_type": "code",
   "execution_count": 2,
   "metadata": {},
   "outputs": [],
   "source": [
    "data = np.load(os.path.join(\"..\", \"data\", \"mnist\", \"mnist.npz\"))\n",
    "\n",
    "# gather indices to split training data into training and validation sets\n",
    "data_train = (data['x_train'], data['y_train'])\n",
    "shuffled_idxs = np.random.permutation(data['x_train'].shape[0])\n",
    "idxs_train = shuffled_idxs[len(shuffled_idxs)//10:]  # last 90%\n",
    "idxs_val = shuffled_idxs[:len(shuffled_idxs)//10]  # first 10%\n",
    "\n",
    "x_train, y_train = (torch.tensor(data['x_train'][idxs_train], dtype=torch.float),\n",
    "                    torch.tensor(data['y_train'][idxs_train], dtype=torch.long))\n",
    "x_val, y_val = (torch.tensor(data['x_train'][idxs_val], dtype=torch.float),\n",
    "                torch.tensor(data['y_train'][idxs_val], dtype=torch.long))\n",
    "x_test, y_test = (torch.tensor(data['x_test'], dtype=torch.float),\n",
    "                  torch.tensor(data['y_test'], dtype=torch.long))\n",
    "\n",
    "# squeeze pixel values into from ints [0, 255] to reals [0, 1]\n",
    "x_train, x_val, x_test = x_train/255, x_val/255, x_test/255"
   ]
  },
  {
   "cell_type": "code",
   "execution_count": 3,
   "metadata": {
    "scrolled": true
   },
   "outputs": [],
   "source": [
    "# create Dataset object to support batch training\n",
    "class TrainingDataset(data_utils.Dataset):\n",
    "    def __init__(self, features, labels):\n",
    "        self.features = features\n",
    "        self.labels = labels\n",
    "        \n",
    "    def __len__(self):\n",
    "        return len(self.labels)\n",
    "    \n",
    "    def __getitem__(self, idx):\n",
    "        return (self.features[idx], self.labels[idx])"
   ]
  },
  {
   "cell_type": "markdown",
   "metadata": {},
   "source": [
    "## Model"
   ]
  },
  {
   "cell_type": "code",
   "execution_count": 4,
   "metadata": {},
   "outputs": [],
   "source": [
    "class Net(nn.Module):\n",
    "    def __init__(self, num_features=28*28, hidden_size=512):\n",
    "        super().__init__()\n",
    "        self.fc      = nn.Linear(num_features, hidden_size)\n",
    "        self.dropout = nn.Dropout(0.2)\n",
    "        self.output  = nn.Linear(hidden_size, 10)\n",
    "        \n",
    "    def forward(self, x):\n",
    "        x = x.view(x.shape[0], -1)  # flatten non-batch dimensions\n",
    "        x = func.relu(self.fc(x))\n",
    "        x = self.dropout(x)\n",
    "        x = func.softmax(self.output(x), dim=-1)\n",
    "        return x"
   ]
  },
  {
   "cell_type": "markdown",
   "metadata": {},
   "source": [
    "## Training"
   ]
  },
  {
   "cell_type": "code",
   "execution_count": 5,
   "metadata": {},
   "outputs": [],
   "source": [
    "# specify training procedure\n",
    "model = Net()\n",
    "\n",
    "criterion = torch.nn.CrossEntropyLoss()\n",
    "optimizer = torch.optim.Adam(model.parameters())\n",
    "\n",
    "num_epochs = 5\n",
    "batch_size = 32"
   ]
  },
  {
   "cell_type": "code",
   "execution_count": 6,
   "metadata": {},
   "outputs": [],
   "source": [
    "# enable batching of training data\n",
    "dataset = TrainingDataset(x_train, y_train)\n",
    "dataloader = data_utils.DataLoader(dataset, batch_size=batch_size, shuffle=True)"
   ]
  },
  {
   "cell_type": "code",
   "execution_count": 7,
   "metadata": {
    "scrolled": true
   },
   "outputs": [],
   "source": [
    "for i_epoch in range(num_epochs):\n",
    "    for i_batch, (x_batch, y_batch) in enumerate(dataloader):\n",
    "        model.zero_grad()  # reset model gradients\n",
    "\n",
    "        output = model(x_batch)  # conduct forward pass\n",
    "\n",
    "        loss = criterion(output, y_batch)  # compare model output w/ ground truth\n",
    "        \n",
    "        print(f\"\\repoch {i_epoch+1}/{num_epochs} | \"\n",
    "              f\"iteration {i_batch+1}/{len(dataloader)} | \"\n",
    "              f\"epoch loss avg: {loss.item()}\", end='')\n",
    "\n",
    "        loss.backward()  # backpropogate loss to calculate gradients\n",
    "        optimizer.step()  # update model weights\n",
    "    with torch.no_grad():  # no need to calculate gradients when assessing accuracy\n",
    "        print()\n",
    "        pred_train = model(x_train).numpy().argmax(axis=1)\n",
    "        print(f\"Training accuracy: {(pred_train == y_train.numpy()).mean()}\")\n",
    "        pred_val = model(x_val).numpy().argmax(axis=1)\n",
    "        print(f\"Validation accuracy: {(pred_val == y_val.numpy()).mean()}\")"
   ]
  },
  {
   "cell_type": "markdown",
   "metadata": {},
   "source": [
    "## Testing"
   ]
  },
  {
   "cell_type": "code",
   "execution_count": 8,
   "metadata": {},
   "outputs": [],
   "source": [
    "with torch.no_grad():  # no need to calculate gradients when assessing accuracy\n",
    "    pred_train = model(x_train).numpy().argmax(axis=1)\n",
    "    print(f\"Training accuracy: {(pred_train == y_train.numpy()).mean()}\")\n",
    "    pred_test = model(x_test).numpy().argmax(axis=1)\n",
    "    print(f\"Testing accuracy: {(pred_test == y_test.numpy()).mean()}\")"
   ]
  },
  {
   "cell_type": "markdown",
   "metadata": {},
   "source": [
    "## Save Model"
   ]
  },
  {
   "cell_type": "code",
   "execution_count": 9,
   "metadata": {},
   "outputs": [],
   "source": [
    "torch.save(model.state_dict(), os.path.join(\"..\", \"output\", \"pytorch-basic.hdf5\"))"
   ]
  }
 ],
 "metadata": {
  "kernelspec": {
   "display_name": "Python 3",
   "language": "python",
   "name": "python3"
  },
  "language_info": {
   "codemirror_mode": {
    "name": "ipython",
    "version": 3
   },
   "file_extension": ".py",
   "mimetype": "text/x-python",
   "name": "python",
   "nbconvert_exporter": "python",
   "pygments_lexer": "ipython3",
   "version": "3.7.3"
  }
 },
 "nbformat": 4,
 "nbformat_minor": 2
}
