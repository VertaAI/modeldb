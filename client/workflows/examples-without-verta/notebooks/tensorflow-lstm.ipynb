{
 "cells": [
  {
   "cell_type": "markdown",
   "metadata": {},
   "source": [
    "# LSTM Recurrent Network (TensorFlow)"
   ]
  },
  {
   "cell_type": "code",
   "execution_count": 1,
   "metadata": {},
   "outputs": [],
   "source": [
    "import os\n",
    "import json\n",
    "\n",
    "import numpy as np\n",
    "\n",
    "import tensorflow as tf\n",
    "from tensorflow import keras"
   ]
  },
  {
   "cell_type": "markdown",
   "metadata": {},
   "source": [
    "## Data Loading"
   ]
  },
  {
   "cell_type": "code",
   "execution_count": 2,
   "metadata": {},
   "outputs": [],
   "source": [
    "data = np.load(os.path.join(\"..\", \"data\", \"imdb\", \"imdb.npz\"))\n",
    "\n",
    "# gather indices to split training data into training and validation sets\n",
    "data_train = (data['x_train'], data['y_train'])\n",
    "shuffled_idxs = np.random.permutation(data['x_train'].shape[0])\n",
    "idxs_train = shuffled_idxs[len(shuffled_idxs)//10:]  # last 90%\n",
    "idxs_val = shuffled_idxs[:len(shuffled_idxs)//10]  # first 10%\n",
    "\n",
    "x_train, y_train = data['x_train'][idxs_train], data['y_train'][idxs_train]\n",
    "x_val, y_val = data['x_train'][idxs_val], data['y_train'][idxs_val]\n",
    "x_test, y_test = data['x_test'], data['y_test']"
   ]
  },
  {
   "cell_type": "markdown",
   "metadata": {},
   "source": [
    "## Data Preprocessing"
   ]
  },
  {
   "cell_type": "code",
   "execution_count": 3,
   "metadata": {},
   "outputs": [],
   "source": [
    "with open(os.path.join(\"..\", \"data\", \"imdb\", \"imdb_word_index.json\")) as f:\n",
    "    word_index = json.load(f)\n",
    "    \n",
    "# add special tokens\n",
    "word_index = {word: index+3 for word, index in word_index.items()} \n",
    "word_index[\"<PAD>\"] = 0\n",
    "word_index[\"<START>\"] = 1\n",
    "word_index[\"<UNK>\"] = 2  # unknown\n",
    "word_index[\"<UNUSED>\"] = 3"
   ]
  },
  {
   "cell_type": "code",
   "execution_count": 4,
   "metadata": {},
   "outputs": [],
   "source": [
    "# pad input sequences\n",
    "x_train = keras.preprocessing.sequence.pad_sequences(x_train,\n",
    "                                                     value=word_index[\"<PAD>\"],\n",
    "                                                     padding='post',\n",
    "                                                     maxlen=300)\n",
    "x_val = keras.preprocessing.sequence.pad_sequences(x_val,\n",
    "                                                   value=word_index[\"<PAD>\"],\n",
    "                                                   padding='post',\n",
    "                                                   maxlen=300)\n",
    "x_test = keras.preprocessing.sequence.pad_sequences(x_test,\n",
    "                                                    value=word_index[\"<PAD>\"],\n",
    "                                                    padding='post',\n",
    "                                                    maxlen=300)"
   ]
  },
  {
   "cell_type": "markdown",
   "metadata": {},
   "source": [
    "## Model"
   ]
  },
  {
   "cell_type": "code",
   "execution_count": 5,
   "metadata": {},
   "outputs": [],
   "source": [
    "model = keras.Sequential()\n",
    "model.add(keras.layers.Embedding(max(word_index.values())+1, 16))\n",
    "model.add(keras.layers.LSTM(32, return_sequences=True))\n",
    "model.add(keras.layers.Dropout(0.2))\n",
    "model.add(keras.layers.LSTM(32))\n",
    "model.add(keras.layers.Dense(1, activation=tf.nn.sigmoid))\n",
    "\n",
    "model.compile(optimizer=tf.train.AdamOptimizer(learning_rate=0.01),\n",
    "              loss='binary_crossentropy',\n",
    "              metrics=['accuracy'])"
   ]
  },
  {
   "cell_type": "markdown",
   "metadata": {},
   "source": [
    "## Training"
   ]
  },
  {
   "cell_type": "code",
   "execution_count": 6,
   "metadata": {},
   "outputs": [],
   "source": [
    "history = model.fit(x_train, y_train, epochs=10, batch_size=512, validation_data=(x_val, y_val))"
   ]
  },
  {
   "cell_type": "markdown",
   "metadata": {},
   "source": [
    "## Testing"
   ]
  },
  {
   "cell_type": "code",
   "execution_count": 7,
   "metadata": {},
   "outputs": [],
   "source": [
    "print(f\"Training accuracy: {model.evaluate(x_train, y_train)[1]}\")\n",
    "print(f\"Testing accuracy: {model.evaluate(x_test, y_test)[1]}\")"
   ]
  },
  {
   "cell_type": "markdown",
   "metadata": {},
   "source": [
    "## Save Model"
   ]
  },
  {
   "cell_type": "code",
   "execution_count": 8,
   "metadata": {},
   "outputs": [],
   "source": [
    "keras.models.save_model(model, os.path.join(\"..\", \"output\", \"tensorflow-lstm.hdf5\"))"
   ]
  }
 ],
 "metadata": {
  "kernelspec": {
   "display_name": "Python 3",
   "language": "python",
   "name": "python3"
  },
  "language_info": {
   "codemirror_mode": {
    "name": "ipython",
    "version": 3
   },
   "file_extension": ".py",
   "mimetype": "text/x-python",
   "name": "python",
   "nbconvert_exporter": "python",
   "pygments_lexer": "ipython3",
   "version": "3.7.3"
  }
 },
 "nbformat": 4,
 "nbformat_minor": 2
}
